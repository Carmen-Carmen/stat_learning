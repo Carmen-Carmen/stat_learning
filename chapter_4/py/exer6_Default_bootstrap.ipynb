{
 "cells": [
  {
   "cell_type": "code",
   "execution_count": 38,
   "id": "f1c708b5-359f-4951-90d5-44f75ded0105",
   "metadata": {},
   "outputs": [],
   "source": [
    "import numpy as np\n",
    "import statsmodels.api as sm\n",
    "from ISLP import load_data\n",
    "from ISLP.models import (ModelSpec as MS, \n",
    "                        summarize, \n",
    "                        poly)\n",
    "from sklearn.model_selection import train_test_split\n",
    "\n",
    "from functools import partial\n",
    "from sklearn.model_selection import (cross_validate, \n",
    "    KFold, \n",
    "    ShuffleSplit)\n",
    "from sklearn.base import clone\n",
    "from ISLP.models import sklearn_sm\n",
    "\n",
    "from ISLP import confusion_table\n",
    "\n",
    "import pandas as pd"
   ]
  },
  {
   "cell_type": "markdown",
   "id": "a0675225-67ca-439d-b391-ad89e383fe1e",
   "metadata": {},
   "source": [
    "### (a) Using the summarize() and sm.GLM() functions, determine the estimated standard errors for the coefficients associated with income and balance in a multiple logistic regression model that uses both predictors."
   ]
  },
  {
   "cell_type": "code",
   "execution_count": 7,
   "id": "162b507b-3a2c-4fa5-9ae2-c141f74a196f",
   "metadata": {},
   "outputs": [
    {
     "data": {
      "text/html": [
       "<div>\n",
       "<style scoped>\n",
       "    .dataframe tbody tr th:only-of-type {\n",
       "        vertical-align: middle;\n",
       "    }\n",
       "\n",
       "    .dataframe tbody tr th {\n",
       "        vertical-align: top;\n",
       "    }\n",
       "\n",
       "    .dataframe thead th {\n",
       "        text-align: right;\n",
       "    }\n",
       "</style>\n",
       "<table border=\"1\" class=\"dataframe\">\n",
       "  <thead>\n",
       "    <tr style=\"text-align: right;\">\n",
       "      <th></th>\n",
       "      <th>coef</th>\n",
       "      <th>std err</th>\n",
       "      <th>z</th>\n",
       "      <th>P&gt;|z|</th>\n",
       "    </tr>\n",
       "  </thead>\n",
       "  <tbody>\n",
       "    <tr>\n",
       "      <th>intercept</th>\n",
       "      <td>-11.540500</td>\n",
       "      <td>0.435000</td>\n",
       "      <td>-26.544</td>\n",
       "      <td>0.0</td>\n",
       "    </tr>\n",
       "    <tr>\n",
       "      <th>income</th>\n",
       "      <td>0.000021</td>\n",
       "      <td>0.000005</td>\n",
       "      <td>4.174</td>\n",
       "      <td>0.0</td>\n",
       "    </tr>\n",
       "    <tr>\n",
       "      <th>balance</th>\n",
       "      <td>0.005600</td>\n",
       "      <td>0.000000</td>\n",
       "      <td>24.835</td>\n",
       "      <td>0.0</td>\n",
       "    </tr>\n",
       "  </tbody>\n",
       "</table>\n",
       "</div>"
      ],
      "text/plain": [
       "                coef   std err       z  P>|z|\n",
       "intercept -11.540500  0.435000 -26.544    0.0\n",
       "income      0.000021  0.000005   4.174    0.0\n",
       "balance     0.005600  0.000000  24.835    0.0"
      ]
     },
     "execution_count": 7,
     "metadata": {},
     "output_type": "execute_result"
    }
   ],
   "source": [
    "Default = load_data(\"Default\")\n",
    "X = MS([\"income\", \"balance\"]).fit_transform(Default)\n",
    "y = Default[\"default\"] == \"Yes\"\n",
    "fit = sm.GLM(y, \n",
    "             X, \n",
    "             family=sm.families.Binomial()).fit()\n",
    "summarize(fit)"
   ]
  },
  {
   "cell_type": "markdown",
   "id": "33d5ba92-2b7c-406e-9966-3f9178664837",
   "metadata": {},
   "source": [
    "### (b) Write a function, boot_fn(), that takes as input the Default data set as well as an index of the observations, and that outputs the coefficient estimates for income and balance in the multiple logistic regression model."
   ]
  },
  {
   "cell_type": "code",
   "execution_count": 18,
   "id": "a19eae9f-d9ef-480d-b465-f2bd6bc8076e",
   "metadata": {},
   "outputs": [],
   "source": [
    "def boot_fn(model_matrix, response, D, idx): \n",
    "    D_ = D.iloc[idx]\n",
    "    Y_ = D_[response]\n",
    "    X_ = clone(model_matrix).fit_transform(D_)\n",
    "    return sm.GLM(Y_, X_, family=sm.families.Binomial()).fit().params"
   ]
  },
  {
   "cell_type": "code",
   "execution_count": 19,
   "id": "776d3fa8-25ef-454a-955e-a4d60f1ea665",
   "metadata": {},
   "outputs": [
    {
     "data": {
      "text/plain": [
       "array([[-1.16416373e+01,  1.87775777e-05,  5.73877605e-03],\n",
       "       [-1.27619965e+01,  3.20594655e-05,  6.16200434e-03],\n",
       "       [-1.12850364e+01,  1.59221870e-05,  5.61832222e-03],\n",
       "       [-1.09975828e+01,  1.40723398e-05,  5.41168597e-03],\n",
       "       [-1.13173469e+01,  1.12728778e-05,  5.70216361e-03],\n",
       "       [-1.17516107e+01,  1.85974460e-05,  5.83443562e-03],\n",
       "       [-1.12884834e+01,  1.52822182e-05,  5.53172383e-03],\n",
       "       [-1.13883312e+01,  1.73720495e-05,  5.70192972e-03],\n",
       "       [-1.11098351e+01,  2.33921172e-05,  5.28010522e-03],\n",
       "       [-1.10505563e+01,  1.50937413e-05,  5.46083916e-03]])"
      ]
     },
     "execution_count": 19,
     "metadata": {},
     "output_type": "execute_result"
    }
   ],
   "source": [
    "Default[\"is_default\"] = Default[\"default\"] == \"Yes\"\n",
    "default_fn = partial(boot_fn, MS([\"income\", \"balance\"]), \"is_default\")\n",
    "rng = np.random.default_rng(0)\n",
    "np.array([default_fn(Default, \n",
    "                     rng.choice(len(Default), \n",
    "                                len(Default), \n",
    "                                replace=True)) for _ in range(10)])"
   ]
  },
  {
   "cell_type": "code",
   "execution_count": 142,
   "id": "66721d80-0208-4540-b73e-2700c2ba858d",
   "metadata": {},
   "outputs": [],
   "source": [
    "# the function for computing the bootstrap standard error for arbitrary functions\n",
    "def boot_SE1(func, \n",
    "            D, \n",
    "            n=None, \n",
    "            B=1000, \n",
    "            seed=0): \n",
    "    rng = np.random.default_rng(seed)\n",
    "    first_, second_ = 0, 0\n",
    "    n = n or D.shape[0] # use the bigger one as n\n",
    "    \n",
    "    for _ in range(B): # repeat sampling for B times\n",
    "        idx = rng.choice(D.index, \n",
    "                         n, \n",
    "                         replace=True)\n",
    "        value = func(D, idx)\n",
    "        first_ += value\n",
    "        second_ += value ** 2\n",
    "\n",
    "    return np.sqrt(second_ / B - (first_ / B) ** 2)"
   ]
  },
  {
   "cell_type": "code",
   "execution_count": 143,
   "id": "6174ad80-4fa6-4ad5-9e53-4fc83e60c78e",
   "metadata": {},
   "outputs": [],
   "source": [
    "# self-made\n",
    "def boot_SE2(func, \n",
    "            D, \n",
    "            n=None, \n",
    "            B=1000, \n",
    "            seed=0): \n",
    "    rng = np.random.default_rng(seed)\n",
    "    n = n or D.shape[0] # use the bigger one as n\n",
    "\n",
    "    df = pd.DataFrame()\n",
    "    \n",
    "    for _ in range(B): # repeat sampling for B times\n",
    "        idx = rng.choice(D.index, \n",
    "                         n, \n",
    "                         replace=True)\n",
    "        value = func(D, idx)\n",
    "\n",
    "        if len(df) == 0: \n",
    "            df = value.to_frame().T\n",
    "        else:\n",
    "            new_row = value.to_frame().T\n",
    "            df = pd.concat([df, new_row], ignore_index=True)\n",
    "        \n",
    "    return np.std(df)"
   ]
  },
  {
   "cell_type": "code",
   "execution_count": 144,
   "id": "ef55e8f9-c06c-418b-9ed6-b5138f3e34f7",
   "metadata": {},
   "outputs": [],
   "source": [
    "import time"
   ]
  },
  {
   "cell_type": "code",
   "execution_count": 145,
   "id": "517f9cf7-b91e-4d87-ba52-0741dacf37ff",
   "metadata": {},
   "outputs": [
    {
     "name": "stdout",
     "output_type": "stream",
     "text": [
      "intercept    0.435692\n",
      "income       0.000005\n",
      "balance      0.000230\n",
      "dtype: float64\n",
      "lab func runtime: 49692ms\n"
     ]
    }
   ],
   "source": [
    "start_t = time.time()\n",
    "SE = boot_SE1(default_fn, Default, B=1000, seed=0)\n",
    "end_t = time.time()\n",
    "print(SE)\n",
    "print(\"lab func runtime: %dms\" %((end_t - start_t) * 1000))"
   ]
  },
  {
   "cell_type": "code",
   "execution_count": 146,
   "id": "68165052-1d60-4b5e-9fa8-0a38cb3038f1",
   "metadata": {},
   "outputs": [
    {
     "name": "stdout",
     "output_type": "stream",
     "text": [
      "intercept    0.435692\n",
      "income       0.000005\n",
      "balance      0.000230\n",
      "dtype: float64\n",
      "self-made func runtime: 55877ms\n"
     ]
    }
   ],
   "source": [
    "start_t = time.time()\n",
    "SE = boot_SE2(default_fn, Default, B=1000, seed=0)\n",
    "end_t = time.time()\n",
    "print(SE)\n",
    "print(\"self-made func runtime: %dms\" %((end_t - start_t) * 1000))"
   ]
  }
 ],
 "metadata": {
  "kernelspec": {
   "display_name": "Python 3 (ipykernel)",
   "language": "python",
   "name": "python3"
  },
  "language_info": {
   "codemirror_mode": {
    "name": "ipython",
    "version": 3
   },
   "file_extension": ".py",
   "mimetype": "text/x-python",
   "name": "python",
   "nbconvert_exporter": "python",
   "pygments_lexer": "ipython3",
   "version": "3.10.14"
  }
 },
 "nbformat": 4,
 "nbformat_minor": 5
}
