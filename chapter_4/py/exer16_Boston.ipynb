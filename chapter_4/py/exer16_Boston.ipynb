{
 "cells": [
  {
   "cell_type": "code",
   "execution_count": 1,
   "id": "ce2f5560-8eb1-4ffa-84cc-ed507fa1d82e",
   "metadata": {},
   "outputs": [],
   "source": [
    "import numpy as np\n",
    "import pandas as pd\n",
    "from matplotlib.pyplot import subplots\n",
    "import statsmodels.api as sm\n",
    "from ISLP import load_data\n",
    "from ISLP.models import (ModelSpec as MS, summarize)\n",
    "\n",
    "from ISLP import confusion_table\n",
    "from ISLP.models import contrast\n",
    "from sklearn.discriminant_analysis import (LinearDiscriminantAnalysis as LDA, \\\n",
    "                                            QuadraticDiscriminantAnalysis as QDA)\n",
    "from sklearn.naive_bayes import GaussianNB\n",
    "from sklearn.neighbors import KNeighborsClassifier\n",
    "from sklearn.preprocessing import StandardScaler\n",
    "from sklearn.model_selection import train_test_split\n",
    "from sklearn.linear_model import LogisticRegression"
   ]
  },
  {
   "cell_type": "code",
   "execution_count": 2,
   "id": "96ce0a80-b996-49ad-8953-e3625053bfb7",
   "metadata": {},
   "outputs": [
    {
     "data": {
      "text/plain": [
       "Index(['crim', 'zn', 'indus', 'chas', 'nox', 'rm', 'age', 'dis', 'rad', 'tax',\n",
       "       'ptratio', 'lstat', 'medv'],\n",
       "      dtype='object')"
      ]
     },
     "execution_count": 2,
     "metadata": {},
     "output_type": "execute_result"
    }
   ],
   "source": [
    "Boston = load_data(\"Boston\")\n",
    "Boston.columns"
   ]
  },
  {
   "cell_type": "code",
   "execution_count": 3,
   "id": "fd7b6895-3d99-4dee-be87-684b78a8e875",
   "metadata": {},
   "outputs": [],
   "source": [
    "is_high_crime = (Boston.crim > Boston.crim.median())\n",
    "Boston[\"is_high_crime\"] = is_high_crime"
   ]
  },
  {
   "cell_type": "code",
   "execution_count": 4,
   "id": "12e10a8d-270c-4658-8ec6-7d8161501379",
   "metadata": {},
   "outputs": [
    {
     "data": {
      "text/plain": [
       "['zn',\n",
       " 'indus',\n",
       " 'chas',\n",
       " 'nox',\n",
       " 'rm',\n",
       " 'age',\n",
       " 'dis',\n",
       " 'rad',\n",
       " 'tax',\n",
       " 'ptratio',\n",
       " 'lstat',\n",
       " 'medv']"
      ]
     },
     "execution_count": 4,
     "metadata": {},
     "output_type": "execute_result"
    }
   ],
   "source": [
    "predictors = list(Boston.columns)\n",
    "predictors.remove(\"crim\")\n",
    "predictors.remove(\"is_high_crime\")\n",
    "predictors"
   ]
  },
  {
   "cell_type": "code",
   "execution_count": 5,
   "id": "93451c20-82df-4ec0-91b2-65914fc7c97b",
   "metadata": {},
   "outputs": [],
   "source": [
    "# order the predictors by their correlation with is_high_crime\n",
    "cor_is_high_crime = {}\n",
    "for p in predictors: \n",
    "    p_series = Boston[p]\n",
    "    cor_val = p_series.corr(Boston[\"is_high_crime\"])\n",
    "    cor_is_high_crime[p] = abs(cor_val)"
   ]
  },
  {
   "cell_type": "code",
   "execution_count": 6,
   "id": "c52cf2ad-b034-40db-ab19-694ac11ecd09",
   "metadata": {},
   "outputs": [
    {
     "data": {
      "text/plain": [
       "{'zn': 0.4361510259363151,\n",
       " 'indus': 0.6032601715706467,\n",
       " 'chas': 0.07009677438941003,\n",
       " 'nox': 0.7232347950332799,\n",
       " 'rm': 0.15637177512288822,\n",
       " 'age': 0.6139399206913061,\n",
       " 'dis': 0.6163416418258276,\n",
       " 'rad': 0.6197862490196543,\n",
       " 'tax': 0.608741282861182,\n",
       " 'ptratio': 0.25356836320343334,\n",
       " 'lstat': 0.4532627324454923,\n",
       " 'medv': 0.26301673420901894}"
      ]
     },
     "execution_count": 6,
     "metadata": {},
     "output_type": "execute_result"
    }
   ],
   "source": [
    "cor_is_high_crime"
   ]
  },
  {
   "cell_type": "code",
   "execution_count": 7,
   "id": "b0aaa5eb-ee9c-41b9-9fd1-e06f8b058598",
   "metadata": {},
   "outputs": [
    {
     "data": {
      "text/plain": [
       "['nox',\n",
       " 'rad',\n",
       " 'dis',\n",
       " 'age',\n",
       " 'tax',\n",
       " 'indus',\n",
       " 'lstat',\n",
       " 'zn',\n",
       " 'medv',\n",
       " 'ptratio',\n",
       " 'rm',\n",
       " 'chas']"
      ]
     },
     "execution_count": 7,
     "metadata": {},
     "output_type": "execute_result"
    }
   ],
   "source": [
    "sorted_predictors = [k for k, v in sorted(cor_is_high_crime.items(), key=lambda item: item[1], reverse=True)]\n",
    "sorted_predictors"
   ]
  },
  {
   "cell_type": "code",
   "execution_count": 8,
   "id": "7cd743fe-0fa2-422d-b462-6734a1f0d51e",
   "metadata": {},
   "outputs": [],
   "source": [
    "RANDOM_SEED = 1111\n",
    "TEST_RATIO = 0.1"
   ]
  },
  {
   "cell_type": "code",
   "execution_count": 9,
   "id": "a75517ee-1f4d-4edc-9672-056e758fc5ad",
   "metadata": {},
   "outputs": [],
   "source": [
    "def split_data(data, predictor_list, response_str): \n",
    "    features = data[predictor_list]\n",
    "    response = data[response_str]\n",
    "    \n",
    "    (X_train, X_test, y_train, y_test) = train_test_split(\n",
    "        features, response, test_size=round(len(data) * TEST_RATIO), random_state=RANDOM_SEED\n",
    "    )\n",
    "\n",
    "    if type(predictor_list) != list: \n",
    "        predictor_list = [predictor_list]\n",
    "\n",
    "    X_train = pd.DataFrame(X_train, columns=predictor_list)\n",
    "    X_test = pd.DataFrame(X_test, columns=predictor_list)\n",
    "\n",
    "    # X_train = MS[predictor_list].fit_transform(X_train)\n",
    "    # X_test = MS[predictor_list].fit_transform(X_test)\n",
    "\n",
    "    return (X_train, X_test, y_train, y_test)"
   ]
  },
  {
   "cell_type": "code",
   "execution_count": 10,
   "id": "3ec179ab-3d5a-400c-81fa-900f2cb6ed5a",
   "metadata": {},
   "outputs": [
    {
     "data": {
      "text/plain": [
       "0.6470588235294118"
      ]
     },
     "execution_count": 10,
     "metadata": {},
     "output_type": "execute_result"
    }
   ],
   "source": [
    "# logistic regression prediction accuracy\n",
    "def log_reg_accuracy(data, predictor_list, response_str): \n",
    "    (X_train, X_test, y_train, y_test) = split_data(data, predictor_list, response_str)\n",
    "\n",
    "    log_reg_model = sm.GLM(y_train, X_train, family=sm.families.Binomial())\n",
    "    results = log_reg_model.fit()\n",
    "    # print(summarize(results))\n",
    "    prob_list = results.predict(X_test)\n",
    "    # print(prob_list)\n",
    "    pred = np.array([False] * len(y_test))\n",
    "    pred[prob_list > .5] = \"True\"\n",
    "\n",
    "    return np.mean(pred == y_test)\n",
    "\n",
    "log_reg_accuracy(Boston, sorted_predictors[0:2], \"is_high_crime\")"
   ]
  },
  {
   "cell_type": "code",
   "execution_count": 11,
   "id": "ceae3b00-d0de-4d7e-805f-be2c08ec80ce",
   "metadata": {},
   "outputs": [
    {
     "data": {
      "text/plain": [
       "0.8627450980392157"
      ]
     },
     "execution_count": 11,
     "metadata": {},
     "output_type": "execute_result"
    }
   ],
   "source": [
    "# LDA prediction accuracy\n",
    "def lda_accuracy(data, predictor_list, response_str): \n",
    "    (X_train, X_test, y_train, y_test) = split_data(data, predictor_list, response_str)\n",
    "\n",
    "    # print(X_train.columns)\n",
    "\n",
    "    lda = LDA(store_covariance=True)\n",
    "    lda.fit(X_train, y_train)\n",
    "    pred = lda.predict(X_test)\n",
    "    \n",
    "    return np.mean(pred == y_test)\n",
    "\n",
    "lda_accuracy(Boston, sorted_predictors[0:2], \"is_high_crime\")"
   ]
  },
  {
   "cell_type": "code",
   "execution_count": 12,
   "id": "e4077d75-7974-45f9-97b5-43ca759d585d",
   "metadata": {},
   "outputs": [
    {
     "data": {
      "text/plain": [
       "0.8235294117647058"
      ]
     },
     "execution_count": 12,
     "metadata": {},
     "output_type": "execute_result"
    }
   ],
   "source": [
    "# naive Bayes prediction accuracy\n",
    "def nb_accuracy(data, predictor_list, response_str): \n",
    "    (X_train, X_test, y_train, y_test) = split_data(data, predictor_list, response_str)\n",
    "\n",
    "    nb = GaussianNB()\n",
    "    nb.fit(X_train, y_train)\n",
    "    pred = nb.predict(X_test)\n",
    "\n",
    "    return np.mean(pred == y_test)\n",
    "\n",
    "nb_accuracy(Boston, sorted_predictors[0:2], \"is_high_crime\")"
   ]
  },
  {
   "cell_type": "code",
   "execution_count": 13,
   "id": "97c586fe-5e1e-438c-a72d-7381e54ca499",
   "metadata": {},
   "outputs": [
    {
     "data": {
      "text/plain": [
       "0.9215686274509803"
      ]
     },
     "execution_count": 13,
     "metadata": {},
     "output_type": "execute_result"
    }
   ],
   "source": [
    "# KNN prediction accuracy\n",
    "def knn_accuracy(data, predictor_list, response_str): \n",
    "    # data pretreatment, i.e. scale\n",
    "    if type(predictor_list) != list: \n",
    "        predictor_list = [predictor_list]\n",
    "\n",
    "    features = data[predictor_list]\n",
    "    scaler = StandardScaler(with_mean=True, \n",
    "                            with_std=True, \n",
    "                            copy=True)\n",
    "    scaler.fit(features)\n",
    "    X_std = scaler.transform(features)\n",
    "    X_std = pd.DataFrame(X_std, \n",
    "                         index=features.index,\n",
    "                         columns=predictor_list)\n",
    "\n",
    "    # print(X_std)\n",
    "\n",
    "    (X_train, X_test, y_train, y_test) = train_test_split(X_std, \n",
    "                                                          data[response_str], \n",
    "                                                          test_size=round(len(data) * TEST_RATIO), \n",
    "                                                          random_state=RANDOM_SEED)\n",
    "    # print(y_train)\n",
    "    best_accuracy = 0\n",
    "    best_K = 0\n",
    "    for K in range(1, 41): \n",
    "        knn = KNeighborsClassifier(n_neighbors=K)\n",
    "        pred = knn.fit(X_train, y_train).predict(X_test)\n",
    "        accuracy = np.mean(pred == y_test)\n",
    "        if accuracy > best_accuracy: \n",
    "            best_accuracy = accuracy\n",
    "            best_K = K\n",
    "\n",
    "    return best_accuracy\n",
    "\n",
    "knn_accuracy(Boston, sorted_predictors, \"is_high_crime\")"
   ]
  },
  {
   "cell_type": "code",
   "execution_count": 14,
   "id": "4e1a12ef-0539-44d4-984f-12bbdae3ab36",
   "metadata": {},
   "outputs": [],
   "source": [
    "# accuracy of different methods with different predictors\n",
    "def classify_accuracy(data, predictor_list, response_str): \n",
    "    # logistic regression\n",
    "    log_reg_res = log_reg_accuracy(data, predictor_list, response_str)\n",
    "\n",
    "    # LDA\n",
    "    lda_res = lda_accuracy(data, predictor_list, response_str)\n",
    "\n",
    "    # KNN\n",
    "    knn_res = knn_accuracy(data, predictor_list, response_str)\n",
    "\n",
    "    # NB\n",
    "    nb_res = nb_accuracy(data, predictor_list, response_str)\n",
    "\n",
    "    return {\n",
    "        \"log_reg\": log_reg_res, \n",
    "        \"lda\": lda_res, \n",
    "        \"knn\": knn_res, \n",
    "        \"nb\": nb_res\n",
    "    }"
   ]
  },
  {
   "cell_type": "code",
   "execution_count": 15,
   "id": "f4c0377f-fe0e-495a-b8c4-4d663e6f87d2",
   "metadata": {},
   "outputs": [],
   "source": [
    "accuracy_dict = {\n",
    "    \"log_reg\": [], \n",
    "    \"lda\": [], \n",
    "    \"knn\": [], \n",
    "    \"nb\": []\n",
    "}\n",
    "\n",
    "for i in range(1, len(sorted_predictors)): \n",
    "    predictors_temp = sorted_predictors[: i]\n",
    "    results_temp = classify_accuracy(Boston, predictors_temp, \"is_high_crime\")\n",
    "    for k in accuracy_dict.keys(): \n",
    "        accuracy_dict[k].append(results_temp[k])"
   ]
  },
  {
   "cell_type": "code",
   "execution_count": 16,
   "id": "08258d4a-2fba-4a1a-9c81-326e001a8b40",
   "metadata": {},
   "outputs": [
    {
     "data": {
      "text/plain": [
       "<matplotlib.legend.Legend at 0x7fc3b92d25c0>"
      ]
     },
     "execution_count": 16,
     "metadata": {},
     "output_type": "execute_result"
    },
    {
     "data": {
      "image/png": "[encoded data removed]",
      "text/plain": [
       "<Figure size 800x800 with 1 Axes>"
      ]
     },
     "metadata": {},
     "output_type": "display_data"
    }
   ],
   "source": [
    "fig, ax = subplots(figsize=(8, 8))\n",
    "x_axis = list(range(1, len(sorted_predictors)))\n",
    "ax.plot(x_axis, accuracy_dict[\"log_reg\"], color=\"red\", marker=\"o\", ms=10, label=\"Logistic Regression\")\n",
    "ax.plot(x_axis, accuracy_dict[\"lda\"], color=\"blue\", marker=\"o\", ms=10, label=\"Linear Discriminant Analysis\")\n",
    "ax.plot(x_axis, accuracy_dict[\"knn\"], color=\"green\", marker=\"o\", ms=10, label=\"K-Nearest Neighbors\")\n",
    "ax.plot(x_axis, accuracy_dict[\"nb\"], color=\"orange\", marker=\"o\", ms=10, label=\"Naive Bayes\")\n",
    "ax.legend()"
   ]
  },
  {
   "cell_type": "code",
   "execution_count": null,
   "id": "3a5a9451-b2dd-4daf-8424-8239b2d57ab6",
   "metadata": {},
   "outputs": [],
   "source": []
  }
 ],
 "metadata": {
  "kernelspec": {
   "display_name": "Python 3 (ipykernel)",
   "language": "python",
   "name": "python3"
  },
  "language_info": {
   "codemirror_mode": {
    "name": "ipython",
    "version": 3
   },
   "file_extension": ".py",
   "mimetype": "text/x-python",
   "name": "python",
   "nbconvert_exporter": "python",
   "pygments_lexer": "ipython3",
   "version": "3.10.14"
  }
 },
 "nbformat": 4,
 "nbformat_minor": 5
}
