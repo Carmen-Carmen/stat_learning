{
 "cells": [
  {
   "cell_type": "code",
   "execution_count": 55,
   "id": "9afe2f8a-bdde-43e8-a075-3a4fca143ef5",
   "metadata": {},
   "outputs": [],
   "source": [
    "import numpy as np\n",
    "import statsmodels.api as sm\n",
    "from ISLP import load_data\n",
    "from ISLP.models import (ModelSpec as MS, \n",
    "                        summarize, \n",
    "                        poly)\n",
    "from sklearn.model_selection import train_test_split\n",
    "\n",
    "from functools import partial\n",
    "from sklearn.model_selection import (cross_validate, \n",
    "    KFold, \n",
    "    ShuffleSplit)\n",
    "from sklearn.base import clone\n",
    "from ISLP.models import sklearn_sm\n",
    "\n",
    "from ISLP import confusion_table"
   ]
  },
  {
   "cell_type": "markdown",
   "id": "6960c90e-d6a3-495b-bf9a-d30f936b4931",
   "metadata": {},
   "source": [
    "### (a) Fit a logistic regression model that uses income and balance to predict default."
   ]
  },
  {
   "cell_type": "code",
   "execution_count": 56,
   "id": "40924e73-e29d-4149-81c7-06889f9ed74d",
   "metadata": {},
   "outputs": [
    {
     "data": {
      "text/html": [
       "<div>\n",
       "<style scoped>\n",
       "    .dataframe tbody tr th:only-of-type {\n",
       "        vertical-align: middle;\n",
       "    }\n",
       "\n",
       "    .dataframe tbody tr th {\n",
       "        vertical-align: top;\n",
       "    }\n",
       "\n",
       "    .dataframe thead th {\n",
       "        text-align: right;\n",
       "    }\n",
       "</style>\n",
       "<table border=\"1\" class=\"dataframe\">\n",
       "  <thead>\n",
       "    <tr style=\"text-align: right;\">\n",
       "      <th></th>\n",
       "      <th>coef</th>\n",
       "      <th>std err</th>\n",
       "      <th>z</th>\n",
       "      <th>P&gt;|z|</th>\n",
       "    </tr>\n",
       "  </thead>\n",
       "  <tbody>\n",
       "    <tr>\n",
       "      <th>intercept</th>\n",
       "      <td>-11.540500</td>\n",
       "      <td>0.435000</td>\n",
       "      <td>-26.544</td>\n",
       "      <td>0.0</td>\n",
       "    </tr>\n",
       "    <tr>\n",
       "      <th>income</th>\n",
       "      <td>0.000021</td>\n",
       "      <td>0.000005</td>\n",
       "      <td>4.174</td>\n",
       "      <td>0.0</td>\n",
       "    </tr>\n",
       "    <tr>\n",
       "      <th>balance</th>\n",
       "      <td>0.005600</td>\n",
       "      <td>0.000000</td>\n",
       "      <td>24.835</td>\n",
       "      <td>0.0</td>\n",
       "    </tr>\n",
       "  </tbody>\n",
       "</table>\n",
       "</div>"
      ],
      "text/plain": [
       "                coef   std err       z  P>|z|\n",
       "intercept -11.540500  0.435000 -26.544    0.0\n",
       "income      0.000021  0.000005   4.174    0.0\n",
       "balance     0.005600  0.000000  24.835    0.0"
      ]
     },
     "execution_count": 56,
     "metadata": {},
     "output_type": "execute_result"
    }
   ],
   "source": [
    "Default = load_data(\"Default\")\n",
    "X = MS([\"income\", \"balance\"]).fit_transform(Default)\n",
    "y = Default[\"default\"] == \"Yes\"\n",
    "fit = sm.GLM(y, \n",
    "             X, \n",
    "             family=sm.families.Binomial()).fit()\n",
    "summarize(fit)"
   ]
  },
  {
   "cell_type": "markdown",
   "id": "64679cdb-1c22-4b42-9c67-2d5ce0205482",
   "metadata": {},
   "source": [
    "### (b) Using the validation set approach, estimate the test error of this model."
   ]
  },
  {
   "cell_type": "code",
   "execution_count": 57,
   "id": "bbab684d-263f-49fe-b46f-6da422259abb",
   "metadata": {},
   "outputs": [
    {
     "data": {
      "text/html": [
       "<div>\n",
       "<style scoped>\n",
       "    .dataframe tbody tr th:only-of-type {\n",
       "        vertical-align: middle;\n",
       "    }\n",
       "\n",
       "    .dataframe tbody tr th {\n",
       "        vertical-align: top;\n",
       "    }\n",
       "\n",
       "    .dataframe thead th {\n",
       "        text-align: right;\n",
       "    }\n",
       "</style>\n",
       "<table border=\"1\" class=\"dataframe\">\n",
       "  <thead>\n",
       "    <tr style=\"text-align: right;\">\n",
       "      <th></th>\n",
       "      <th>coef</th>\n",
       "      <th>std err</th>\n",
       "      <th>z</th>\n",
       "      <th>P&gt;|z|</th>\n",
       "    </tr>\n",
       "  </thead>\n",
       "  <tbody>\n",
       "    <tr>\n",
       "      <th>intercept</th>\n",
       "      <td>-11.389600</td>\n",
       "      <td>0.635000</td>\n",
       "      <td>-17.935</td>\n",
       "      <td>0.000</td>\n",
       "    </tr>\n",
       "    <tr>\n",
       "      <th>income</th>\n",
       "      <td>0.000016</td>\n",
       "      <td>0.000007</td>\n",
       "      <td>2.151</td>\n",
       "      <td>0.031</td>\n",
       "    </tr>\n",
       "    <tr>\n",
       "      <th>balance</th>\n",
       "      <td>0.005600</td>\n",
       "      <td>0.000000</td>\n",
       "      <td>16.792</td>\n",
       "      <td>0.000</td>\n",
       "    </tr>\n",
       "  </tbody>\n",
       "</table>\n",
       "</div>"
      ],
      "text/plain": [
       "                coef   std err       z  P>|z|\n",
       "intercept -11.389600  0.635000 -17.935  0.000\n",
       "income      0.000016  0.000007   2.151  0.031\n",
       "balance     0.005600  0.000000  16.792  0.000"
      ]
     },
     "execution_count": 57,
     "metadata": {},
     "output_type": "execute_result"
    }
   ],
   "source": [
    "Default_train, Default_valid = train_test_split(Default, \n",
    "                                                test_size=len(Default) // 2, \n",
    "                                                random_state=0)\n",
    "X_train = MS([\"income\", \"balance\"]).fit_transform(Default_train)\n",
    "y_train = Default_train[\"default\"] == \"Yes\"\n",
    "model = sm.GLM(y_train, \n",
    "               X_train, \n",
    "               family=sm.families.Binomial())\n",
    "results = model.fit()\n",
    "summarize(results)"
   ]
  },
  {
   "cell_type": "code",
   "execution_count": 58,
   "id": "b8bca9b2-aed8-430d-b8af-5644b8ac9021",
   "metadata": {},
   "outputs": [
    {
     "data": {
      "text/plain": [
       "0.0398"
      ]
     },
     "execution_count": 58,
     "metadata": {},
     "output_type": "execute_result"
    }
   ],
   "source": [
    "X_valid = MS([\"income\", \"balance\"]).fit_transform(Default_valid)\n",
    "y_valid = Default_valid[\"default\"]\n",
    "valid_prob_list = results.predict(X_valid)\n",
    "valid_pred = np.array([\"No\"] * len(y_valid))\n",
    "valid_pred[valid_prob_list > .5] = \"Yes\"\n",
    "np.mean(valid_pred != y_valid)"
   ]
  },
  {
   "cell_type": "markdown",
   "id": "f3342b7a-8264-4cbb-aaa2-f39dbe579bc0",
   "metadata": {},
   "source": [
    "### (c) Repeat the process in (b) three times, using three different splits of the observations into a training set and a validation set. Comment on the results obtained."
   ]
  },
  {
   "cell_type": "code",
   "execution_count": 59,
   "id": "c02f8dc9-b944-4e82-a50b-ff9e8fbe1b6a",
   "metadata": {},
   "outputs": [
    {
     "name": "stdout",
     "output_type": "stream",
     "text": [
      "validation set error for seed[1]: 0.0366\n",
      "validation set error for seed[2]: 0.0352\n",
      "validation set error for seed[3]: 0.0366\n"
     ]
    }
   ],
   "source": [
    "for i in range(1, 4): \n",
    "    Default_train, Default_valid = train_test_split(Default, \n",
    "                                                test_size=len(Default) // 2, \n",
    "                                                random_state=i)\n",
    "    X_train = MS([\"income\", \"balance\"]).fit_transform(Default_train)\n",
    "    y_train = Default_train[\"default\"] == \"Yes\"\n",
    "    model = sm.GLM(y_train, \n",
    "                   X_train, \n",
    "                   family=sm.families.Binomial())\n",
    "    results = model.fit()\n",
    "    X_valid = MS([\"income\", \"balance\"]).fit_transform(Default_valid)\n",
    "    y_valid = Default_valid[\"default\"]\n",
    "    valid_prob_list = results.predict(X_valid)\n",
    "    valid_pred = np.array([\"No\"] * len(y_valid))\n",
    "    valid_pred[valid_prob_list > .5] = \"Yes\"\n",
    "    validation_set_error = np.mean(valid_pred != y_valid)\n",
    "    print(\"validation set error for seed[%d]: %.4f\" %(i, validation_set_error))"
   ]
  },
  {
   "cell_type": "markdown",
   "id": "12c41d88-90f7-4c47-9864-979e262a3a96",
   "metadata": {},
   "source": [
    "### (d) Now consider a logistic regression model that predicts the probability of default using income, balance, and a dummy variable for student. Estimate the test error for this model using the validation set approach."
   ]
  },
  {
   "cell_type": "code",
   "execution_count": 60,
   "id": "73d742f7-daf0-414b-b402-36538d8dade0",
   "metadata": {},
   "outputs": [
    {
     "name": "stdout",
     "output_type": "stream",
     "text": [
      "validation set error for seed[0]: 0.0372\n",
      "validation set error for seed[1]: 0.0318\n",
      "validation set error for seed[2]: 0.0308\n",
      "validation set error for seed[3]: 0.0338\n"
     ]
    }
   ],
   "source": [
    "for i in range(0, 4): \n",
    "    Default[\"is_student\"] = Default[\"student\"] == \"Yes\"\n",
    "    Default_train, Default_valid = train_test_split(Default, \n",
    "                                                    test_size=len(Default) // 2, \n",
    "                                                    random_state=i)\n",
    "    X_train = MS([\"income\", \"balance\", \"is_student\"]).fit_transform(Default_train)\n",
    "    y_train = Default_train[\"default\"] == \"Yes\"\n",
    "    model = sm.GLM(y_train, \n",
    "                   X_train, \n",
    "                   family=sm.families.Binomial())\n",
    "    results = model.fit()\n",
    "    \n",
    "    X_valid = MS([\"income\", \"balance\", \"is_student\"]).fit_transform(Default_valid)\n",
    "    y_valid = Default_valid[\"default\"]\n",
    "    valid_prob_list = results.predict(X_valid)\n",
    "    valid_pred = np.array([\"No\"] * len(y_valid))\n",
    "    validation_set_error = np.mean(valid_pred != y_valid)\n",
    "    print(\"validation set error for seed[%d]: %.4f\" %(i, validation_set_error))"
   ]
  },
  {
   "cell_type": "markdown",
   "id": "0acc8314-2cc8-4dfb-8199-60c30cfb1fd2",
   "metadata": {},
   "source": [
    "no significant improvement after adding the student variable into the logistic regression model"
   ]
  }
 ],
 "metadata": {
  "kernelspec": {
   "display_name": "Python 3 (ipykernel)",
   "language": "python",
   "name": "python3"
  },
  "language_info": {
   "codemirror_mode": {
    "name": "ipython",
    "version": 3
   },
   "file_extension": ".py",
   "mimetype": "text/x-python",
   "name": "python",
   "nbconvert_exporter": "python",
   "pygments_lexer": "ipython3",
   "version": "3.10.14"
  }
 },
 "nbformat": 4,
 "nbformat_minor": 5
}
