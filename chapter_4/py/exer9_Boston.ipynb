{
 "cells": [
  {
   "cell_type": "code",
   "execution_count": 7,
   "id": "e216db04-52aa-475a-a1bb-da1529a5160f",
   "metadata": {},
   "outputs": [],
   "source": [
    "import numpy as np\n",
    "import pandas as pd\n",
    "import statsmodels.api as sm\n",
    "from ISLP import load_data\n",
    "from ISLP.models import (ModelSpec as MS, \n",
    "                        summarize, \n",
    "                        poly)\n",
    "from sklearn.model_selection import train_test_split\n",
    "\n",
    "from functools import partial\n",
    "from sklearn.model_selection import (cross_validate, \n",
    "    KFold, \n",
    "    ShuffleSplit)\n",
    "from sklearn.base import clone\n",
    "from ISLP.models import sklearn_sm\n",
    "\n",
    "from ISLP import confusion_table"
   ]
  },
  {
   "cell_type": "markdown",
   "id": "b5ac0652-a69c-4225-8827-cdb95c3e87cf",
   "metadata": {},
   "source": [
    "### (a) Based on this data set, provide an estimate for the population mean of medv. Call this estimate µ ˆ."
   ]
  },
  {
   "cell_type": "code",
   "execution_count": 8,
   "id": "bb836987-dab1-469d-83c9-c42faca27579",
   "metadata": {},
   "outputs": [],
   "source": [
    "Boston = load_data(\"Boston\")"
   ]
  },
  {
   "cell_type": "code",
   "execution_count": 9,
   "id": "10291e8b-9021-4f51-9d9c-9bdd1ffd7f23",
   "metadata": {},
   "outputs": [
    {
     "name": "stdout",
     "output_type": "stream",
     "text": [
      "estimate mean of medv: 22.5328\n"
     ]
    }
   ],
   "source": [
    "medv_mean_est = np.mean(Boston[\"medv\"])\n",
    "print(\"estimate mean of medv: %.4f\" %medv_mean_est)"
   ]
  },
  {
   "cell_type": "markdown",
   "id": "2da35115-4d70-4949-a624-71d32ff4a277",
   "metadata": {},
   "source": [
    "### (b) Provide an estimate of the standard error of µ ˆ. Interpret this result. \n",
    "Hint: We can compute the standard error of the sample mean by dividing the sample standard deviation by the square root of the number of observations."
   ]
  },
  {
   "cell_type": "code",
   "execution_count": 10,
   "id": "5ddf912e-3b99-4f30-8eb4-1c2454d6e753",
   "metadata": {},
   "outputs": [
    {
     "name": "stdout",
     "output_type": "stream",
     "text": [
      "estimate SE of mean of medv: 0.4085\n"
     ]
    }
   ],
   "source": [
    "medv_mean_SE_est = np.std(Boston[\"medv\"]) / np.sqrt(len(Boston))\n",
    "print(\"estimate SE of mean of medv: %.4f\" %medv_mean_SE_est)"
   ]
  },
  {
   "cell_type": "markdown",
   "id": "f3e19898-1391-4def-a580-bdfbe626484a",
   "metadata": {},
   "source": [
    "### (c) Now estimate the standard error of µ ˆ using the bootstrap. How does this compare to your answer from (b)?"
   ]
  },
  {
   "cell_type": "code",
   "execution_count": 11,
   "id": "db74e8b0-d156-4f49-a67a-6f9ac90e98e2",
   "metadata": {},
   "outputs": [],
   "source": [
    "def boot_SE(func, \n",
    "            D, \n",
    "            n=None, \n",
    "            B=1000, \n",
    "            seed=0): \n",
    "    rng = np.random.default_rng(seed)\n",
    "    first_, second_ = 0, 0\n",
    "    n = n or D.shape[0] # use the bigger one as n\n",
    "    \n",
    "    for _ in range(B): # repeat sampling for B times\n",
    "        idx = rng.choice(D.index, \n",
    "                         n, \n",
    "                         replace=True)\n",
    "        value = func(D, idx)\n",
    "        first_ += value\n",
    "        second_ += value ** 2\n",
    "\n",
    "    return np.sqrt(second_ / B - (first_ / B) ** 2)"
   ]
  },
  {
   "cell_type": "code",
   "execution_count": 12,
   "id": "3f8c2118-f2e4-4437-9cc9-cbcc1669ca81",
   "metadata": {},
   "outputs": [],
   "source": [
    "def calculate_mean(D, idx): \n",
    "    return np.mean(D.iloc[idx])"
   ]
  },
  {
   "cell_type": "code",
   "execution_count": 13,
   "id": "a8f9fed7-e4f7-45a8-9095-48ad26e13852",
   "metadata": {},
   "outputs": [],
   "source": [
    "medv_mean_SE_boot = boot_SE(calculate_mean, \n",
    "                            Boston[\"medv\"], \n",
    "                            B=1000, \n",
    "                            seed=0)"
   ]
  },
  {
   "cell_type": "code",
   "execution_count": 14,
   "id": "7ecd726f-5df1-4c09-8534-174fb545ead6",
   "metadata": {},
   "outputs": [
    {
     "name": "stdout",
     "output_type": "stream",
     "text": [
      "estimate SE of mean of medv by bootstrap: 0.4125\n"
     ]
    }
   ],
   "source": [
    "print(\"estimate SE of mean of medv by bootstrap: %.4f\" %medv_mean_SE_boot)"
   ]
  },
  {
   "cell_type": "markdown",
   "id": "7ae20b03-a4b6-49f8-a82a-839fc24efe1c",
   "metadata": {},
   "source": [
    "### (d) Based on your bootstrap estimate from (c), provide a 95 % confidence interval for the mean of medv. Compare it to the results obtained by using Boston['medv'].std() and the two standard error rule (3.9)."
   ]
  },
  {
   "cell_type": "code",
   "execution_count": 15,
   "id": "7a0d911b-7ad3-4949-ba71-2f87a6f01837",
   "metadata": {},
   "outputs": [
    {
     "name": "stdout",
     "output_type": "stream",
     "text": [
      "Boston[\"medv\"].std(): 9.1971\n"
     ]
    }
   ],
   "source": [
    "print(\"Boston[\\\"medv\\\"].std(): %.4f\" %Boston[\"medv\"].std())"
   ]
  },
  {
   "cell_type": "code",
   "execution_count": 18,
   "id": "6c54b9f5-77d6-4c6e-892e-8622df724809",
   "metadata": {},
   "outputs": [
    {
     "name": "stdout",
     "output_type": "stream",
     "text": [
      "95% Confidence Interval: (21.72952801457859, 23.336084633642756)\n"
     ]
    }
   ],
   "source": [
    "import statsmodels.stats.api as sms\n",
    "confidence_interval = sms.DescrStatsW(Boston[\"medv\"]).tconfint_mean()\n",
    "print(f\"95% Confidence Interval: {confidence_interval}\")"
   ]
  },
  {
   "cell_type": "code",
   "execution_count": 20,
   "id": "e9afc5fa-c3fd-4751-92b9-fd292c2dd3f8",
   "metadata": {},
   "outputs": [
    {
     "name": "stdout",
     "output_type": "stream",
     "text": [
      "95% CI of the mean of medv using bootstrap: [21.7077, 23.3579]\n"
     ]
    }
   ],
   "source": [
    "print(\"95%% CI of the mean of medv using bootstrap: [%.4f, %.4f]\"\n",
    "     %(\n",
    "         np.mean(Boston[\"medv\"]) - 2 * medv_mean_SE_boot, \n",
    "         np.mean(Boston[\"medv\"]) + 2 * medv_mean_SE_boot, \n",
    "     ))"
   ]
  },
  {
   "cell_type": "markdown",
   "id": "158c7549-7c23-4d3d-b210-217fe98f6611",
   "metadata": {},
   "source": [
    "### (e) Based on this data set, provide an estimate, µ med , for the median value of medv in the population."
   ]
  },
  {
   "cell_type": "code",
   "execution_count": 22,
   "id": "eead64e9-fbab-4c97-a320-488f9e5f44b1",
   "metadata": {},
   "outputs": [
    {
     "name": "stdout",
     "output_type": "stream",
     "text": [
      "estimate median of medv: 21.2000\n"
     ]
    }
   ],
   "source": [
    "medv_med_est = np.median(Boston[\"medv\"])\n",
    "print(\"estimate median of medv: %.4f\" %medv_med_est)"
   ]
  },
  {
   "cell_type": "markdown",
   "id": "6b4e7c2c-c499-4caa-b998-108814836e03",
   "metadata": {},
   "source": [
    "### (f) We now would like to estimate the standard error of µ med ˆ . Unfortunately, there is no simple formula for computing the standard error of the median. Instead, estimate the standard error of the median using the bootstrap. Comment on your findings."
   ]
  },
  {
   "cell_type": "code",
   "execution_count": 23,
   "id": "8d12b544-3b61-4605-8dbb-93d469388d09",
   "metadata": {},
   "outputs": [],
   "source": [
    "def calculate_med(D, idx): \n",
    "    return np.median(D.iloc[idx])"
   ]
  },
  {
   "cell_type": "code",
   "execution_count": 25,
   "id": "3d54d5ca-f841-4838-a288-35e377897421",
   "metadata": {},
   "outputs": [
    {
     "name": "stdout",
     "output_type": "stream",
     "text": [
      "estimate SE of median of medv using bootstrap: 0.3694\n"
     ]
    }
   ],
   "source": [
    "medv_med_SE_boot = boot_SE(calculate_med, \n",
    "                           Boston[\"medv\"], \n",
    "                           B=1000, \n",
    "                           seed=0)\n",
    "print(\"estimate SE of median of medv using bootstrap: %.4f\"\n",
    "     % medv_med_SE_boot)"
   ]
  },
  {
   "cell_type": "markdown",
   "id": "d66937ec-95d0-450b-a72a-cd48b3e3b576",
   "metadata": {},
   "source": [
    "### (g) Based on this data set, provide an estimate for the tenth percentile of medv in Boston census tracts. Call this quantity µ 0.1 ˆ . (You can use the np.percentile() function.)"
   ]
  },
  {
   "cell_type": "code",
   "execution_count": 28,
   "id": "85c66086-3eb2-4ad2-815f-853784069c50",
   "metadata": {},
   "outputs": [
    {
     "name": "stdout",
     "output_type": "stream",
     "text": [
      "estimate 10th percentile of medv: 12.7500\n"
     ]
    }
   ],
   "source": [
    "medv_10_perc = np.percentile(Boston[\"medv\"], 10)\n",
    "print(\"estimate 10th percentile of medv: %.4f\" %medv_10_perc)"
   ]
  },
  {
   "cell_type": "code",
   "execution_count": 31,
   "id": "f3c1f07d-0a97-409a-9696-6f5942af9231",
   "metadata": {},
   "outputs": [],
   "source": [
    "def calculate_10_perc(D, idx): \n",
    "    return np.percentile(D.iloc[idx], 10)"
   ]
  },
  {
   "cell_type": "code",
   "execution_count": 32,
   "id": "3bd0d22e-b44d-4afb-81df-32a09a2eed3a",
   "metadata": {},
   "outputs": [
    {
     "name": "stdout",
     "output_type": "stream",
     "text": [
      "estimate SE of 10th percentile of medv using bootstrap: 0.5035\n"
     ]
    }
   ],
   "source": [
    "medv_10_perc_SE_boot = boot_SE(calculate_10_perc, \n",
    "                               Boston[\"medv\"], \n",
    "                               B=1000, \n",
    "                               seed=0)\n",
    "print(\"estimate SE of 10th percentile of medv using bootstrap: %.4f\"\n",
    "     % medv_10_perc_SE_boot)"
   ]
  }
 ],
 "metadata": {
  "kernelspec": {
   "display_name": "Python 3 (ipykernel)",
   "language": "python",
   "name": "python3"
  },
  "language_info": {
   "codemirror_mode": {
    "name": "ipython",
    "version": 3
   },
   "file_extension": ".py",
   "mimetype": "text/x-python",
   "name": "python",
   "nbconvert_exporter": "python",
   "pygments_lexer": "ipython3",
   "version": "3.10.14"
  }
 },
 "nbformat": 4,
 "nbformat_minor": 5
}
