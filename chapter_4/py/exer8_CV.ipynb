{
 "cells": [
  {
   "cell_type": "code",
   "execution_count": 1,
   "id": "f0bd6c01-78ef-44ec-9e8c-ce08fa097305",
   "metadata": {},
   "outputs": [],
   "source": [
    "import numpy as np\n",
    "import pandas as pd\n",
    "import statsmodels.api as sm\n",
    "from ISLP import load_data\n",
    "from ISLP.models import (ModelSpec as MS, \n",
    "                        summarize, \n",
    "                        poly)\n",
    "from sklearn.model_selection import train_test_split\n",
    "\n",
    "from functools import partial\n",
    "from sklearn.model_selection import (cross_validate, \n",
    "    KFold, \n",
    "    ShuffleSplit)\n",
    "from sklearn.base import clone\n",
    "from ISLP.models import sklearn_sm\n",
    "\n",
    "from ISLP import confusion_table"
   ]
  },
  {
   "cell_type": "markdown",
   "id": "45daae3f-963d-41e9-9e72-9899bbe9e641",
   "metadata": {},
   "source": [
    "### (a) Generate a simulated data set as follows:"
   ]
  },
  {
   "cell_type": "code",
   "execution_count": 2,
   "id": "ed8e570a-2800-4dbd-8a16-70ccc06ea26f",
   "metadata": {},
   "outputs": [],
   "source": [
    "rng = np.random.default_rng(1)\n",
    "x = rng.normal(size=100)\n",
    "y = x - 2 * x ** 2 + rng.normal(size=100)"
   ]
  },
  {
   "cell_type": "markdown",
   "id": "e6d0cc65-6661-46c9-b94b-5c345c483455",
   "metadata": {},
   "source": [
    "In this data set, n = 100 while p = 1"
   ]
  },
  {
   "cell_type": "markdown",
   "id": "3886ea17-8c6c-421d-b7bf-3ce322b331fb",
   "metadata": {},
   "source": [
    "### (b) Create a scatterplot of X against Y . Comment on what you find."
   ]
  },
  {
   "cell_type": "code",
   "execution_count": 8,
   "id": "2ac6c47f-f257-45f9-8f50-e9248994287a",
   "metadata": {},
   "outputs": [
    {
     "data": {
      "text/plain": [
       "Text(0, 0.5, 'y')"
      ]
     },
     "execution_count": 8,
     "metadata": {},
     "output_type": "execute_result"
    },
    {
     "data": {
      "image/png": "[encoded data removed]",
      "text/plain": [
       "<Figure size 800x800 with 1 Axes>"
      ]
     },
     "metadata": {},
     "output_type": "display_data"
    }
   ],
   "source": [
    "from matplotlib.pyplot import subplots\n",
    "\n",
    "ax = subplots(figsize=(8, 8))[1]\n",
    "ax.scatter(x, y)\n",
    "ax.set_xlabel(\"x\", fontsize=20)\n",
    "ax.set_ylabel(\"y\", fontsize=20)"
   ]
  },
  {
   "cell_type": "markdown",
   "id": "b3741f1c-1360-4d21-a3e1-4aeeb3277d00",
   "metadata": {},
   "source": [
    "There is a quadratic relationship between x and y"
   ]
  },
  {
   "cell_type": "markdown",
   "id": "c491b408-7c4c-456f-9ae2-6fcc2ddacc61",
   "metadata": {},
   "source": [
    "### (c) Set a random seed, and then compute the LOOCV errors that result from fitting the following four models using least squares:"
   ]
  },
  {
   "cell_type": "markdown",
   "id": "cf786403-8fe9-4fef-8195-500c6741de7a",
   "metadata": {},
   "source": [
    "i. Y = β 0 + β 1 X + e\n",
    "\n",
    "ii. Y = β 0 + β 1 X + β 2 X ^ 2 + e\n",
    "\n",
    "iii. Y = β 0 + β 1 X + β 2 X ^ 2 + β 3 X ^ 3 + e\n",
    "\n",
    "iv. Y = β 0 + β 1 X + β 2 X ^ 2 + β 3 X ^ 3 + β 4 X ^ 4 + e"
   ]
  },
  {
   "cell_type": "code",
   "execution_count": 16,
   "id": "8c1de24f-4be5-42fc-a4a7-d45e2e0310cd",
   "metadata": {},
   "outputs": [],
   "source": [
    "cv_error = np.zeros(4)\n",
    "for i in range(4): \n",
    "    degree = i + 1\n",
    "    X = np.power.outer(x, np.arange(degree + 1))\n",
    "    M_CV = cross_validate(sklearn_sm(sm.OLS), \n",
    "                          X, \n",
    "                          y, \n",
    "                          cv=len(X))\n",
    "    cv_error[i] = np.mean(M_CV[\"test_score\"])"
   ]
  },
  {
   "cell_type": "code",
   "execution_count": 17,
   "id": "1eb3dbb7-1640-4d47-82cb-cce40e328a1a",
   "metadata": {},
   "outputs": [
    {
     "data": {
      "text/plain": [
       "array([6.63302984, 1.12293686, 1.30179655, 1.33239427])"
      ]
     },
     "execution_count": 17,
     "metadata": {},
     "output_type": "execute_result"
    }
   ],
   "source": [
    "cv_error"
   ]
  },
  {
   "cell_type": "markdown",
   "id": "80364743-7c13-4421-94f8-a1cca0ebd821",
   "metadata": {},
   "source": [
    "### (d) Repeat (c) using another random seed, and report your results. \n",
    "### Are your results the same as what you got in (c)? Why?"
   ]
  },
  {
   "cell_type": "markdown",
   "id": "67c93cbc-1f15-473f-b7bf-15d4bc453474",
   "metadata": {},
   "source": [
    "They are the same, because LOOCV will traverse all the observations."
   ]
  },
  {
   "cell_type": "markdown",
   "id": "89870c95-8c0d-43b5-801f-715bb542246b",
   "metadata": {},
   "source": [
    "### (e) Which of the models in (c) had the smallest LOOCV error? Is this what you expected? Explain your answer."
   ]
  },
  {
   "cell_type": "markdown",
   "id": "4c20af51-d278-4075-b4d8-4c3ee1e93bfc",
   "metadata": {},
   "source": [
    "The quadratic model had the smallest LOOCV error.  \n",
    "This result meets our expectation, since the true relationship between x and y is quadratic."
   ]
  },
  {
   "cell_type": "markdown",
   "id": "6d76d915-21b9-47e8-8277-8e065688c037",
   "metadata": {},
   "source": [
    "### (f) Comment on the statistical significance of the coefficient estimates that results from fitting each of the models in (c) using least squares. Do these results agree with the conclusions drawn based on the cross-validation results?"
   ]
  },
  {
   "cell_type": "code",
   "execution_count": 24,
   "id": "ac14c643-472b-4534-b8ad-0d8ba6c58808",
   "metadata": {},
   "outputs": [
    {
     "name": "stdout",
     "output_type": "stream",
     "text": [
      "                               coef  std err      t  P>|t|\n",
      "intercept                   -1.4650    0.247 -5.937    0.0\n",
      "poly(X, degree=1, raw=True)  1.9494    0.289  6.752    0.0\n",
      "                                  coef  std err       t  P>|t|\n",
      "intercept                      -0.0728    0.119  -0.611  0.543\n",
      "poly(X, degree=2, raw=True)[0]  0.9663    0.126   7.647  0.000\n",
      "poly(X, degree=2, raw=True)[1] -2.0047    0.091 -22.072  0.000\n",
      "                                  coef  std err       t  P>|t|\n",
      "intercept                      -0.0572    0.120  -0.477  0.635\n",
      "poly(X, degree=3, raw=True)[0]  1.1146    0.187   5.945  0.000\n",
      "poly(X, degree=3, raw=True)[1] -2.0471    0.099 -20.673  0.000\n",
      "poly(X, degree=3, raw=True)[2] -0.0643    0.060  -1.070  0.287\n",
      "                                  coef  std err       t  P>|t|\n",
      "intercept                       0.1008    0.136   0.743  0.460\n",
      "poly(X, degree=4, raw=True)[0]  0.9050    0.205   4.423  0.000\n",
      "poly(X, degree=4, raw=True)[1] -2.5059    0.221 -11.336  0.000\n",
      "poly(X, degree=4, raw=True)[2]  0.0338    0.073   0.466  0.642\n",
      "poly(X, degree=4, raw=True)[3]  0.1042    0.045   2.309  0.023\n",
      "                                  coef  std err      t  P>|t|\n",
      "intercept                       0.0238    0.143  0.166  0.868\n",
      "poly(X, degree=5, raw=True)[0]  0.5857    0.285  2.053  0.043\n",
      "poly(X, degree=5, raw=True)[1] -2.1455    0.315 -6.811  0.000\n",
      "poly(X, degree=5, raw=True)[2]  0.4344    0.261  1.661  0.100\n",
      "poly(X, degree=5, raw=True)[3]  0.0061    0.076  0.080  0.936\n",
      "poly(X, degree=5, raw=True)[4] -0.0706    0.044 -1.594  0.114\n"
     ]
    }
   ],
   "source": [
    "df = pd.DataFrame({\n",
    "    \"X\": x, \n",
    "    \"Y\": y\n",
    "})\n",
    "for i in range(5): \n",
    "    X = MS([poly(\"X\", i + 1, raw=True)]).fit_transform(df)\n",
    "    Y = df[\"Y\"]\n",
    "    results = sm.OLS(Y, \n",
    "                     X).fit()\n",
    "    print(summarize(results))"
   ]
  },
  {
   "cell_type": "markdown",
   "id": "552d310e-161e-4b93-831f-81a8c8a5a738",
   "metadata": {},
   "source": [
    "The results agree with the conclusions drawn based on the CV results, that p-values for cubic terms and above are not significant."
   ]
  }
 ],
 "metadata": {
  "kernelspec": {
   "display_name": "Python 3 (ipykernel)",
   "language": "python",
   "name": "python3"
  },
  "language_info": {
   "codemirror_mode": {
    "name": "ipython",
    "version": 3
   },
   "file_extension": ".py",
   "mimetype": "text/x-python",
   "name": "python",
   "nbconvert_exporter": "python",
   "pygments_lexer": "ipython3",
   "version": "3.10.14"
  }
 },
 "nbformat": 4,
 "nbformat_minor": 5
}
