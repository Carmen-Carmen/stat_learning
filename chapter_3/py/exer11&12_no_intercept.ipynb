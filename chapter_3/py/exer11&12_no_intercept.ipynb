{
 "cells": [
  {
   "cell_type": "code",
   "execution_count": 1,
   "id": "b76c0436-9341-4655-946d-28870e9bf49e",
   "metadata": {},
   "outputs": [],
   "source": [
    "import os\n",
    "import numpy as np\n",
    "import pandas as pd\n",
    "from matplotlib.pyplot import subplots\n",
    "\n",
    "import statsmodels.api as sm\n",
    "from statsmodels.stats.outliers_influence \\\n",
    "import variance_inflation_factor as VIF\n",
    "from statsmodels.stats.anova import anova_lm\n",
    "\n",
    "from ISLP import load_data\n",
    "from ISLP.models import (ModelSpec as MS, \n",
    "                            summarize, \n",
    "                            poly)"
   ]
  },
  {
   "cell_type": "code",
   "execution_count": 2,
   "id": "4dd7d089-b979-4317-b89e-bae3f702fbf3",
   "metadata": {},
   "outputs": [],
   "source": [
    "rng = np.random.default_rng(1)\n",
    "x = rng.normal(size = 100)\n",
    "y = 2 * x + rng.normal(size = 100)"
   ]
  },
  {
   "cell_type": "code",
   "execution_count": 3,
   "id": "e816527e-c115-46b1-bcca-d991bbefc9a1",
   "metadata": {},
   "outputs": [
    {
     "data": {
      "text/html": [
       "<div>\n",
       "<style scoped>\n",
       "    .dataframe tbody tr th:only-of-type {\n",
       "        vertical-align: middle;\n",
       "    }\n",
       "\n",
       "    .dataframe tbody tr th {\n",
       "        vertical-align: top;\n",
       "    }\n",
       "\n",
       "    .dataframe thead th {\n",
       "        text-align: right;\n",
       "    }\n",
       "</style>\n",
       "<table border=\"1\" class=\"dataframe\">\n",
       "  <thead>\n",
       "    <tr style=\"text-align: right;\">\n",
       "      <th></th>\n",
       "      <th>coef</th>\n",
       "      <th>std err</th>\n",
       "      <th>t</th>\n",
       "      <th>P&gt;|t|</th>\n",
       "    </tr>\n",
       "  </thead>\n",
       "  <tbody>\n",
       "    <tr>\n",
       "      <th>x</th>\n",
       "      <td>1.9762</td>\n",
       "      <td>0.117</td>\n",
       "      <td>16.898</td>\n",
       "      <td>0.0</td>\n",
       "    </tr>\n",
       "  </tbody>\n",
       "</table>\n",
       "</div>"
      ],
      "text/plain": [
       "     coef  std err       t  P>|t|\n",
       "x  1.9762    0.117  16.898    0.0"
      ]
     },
     "execution_count": 3,
     "metadata": {},
     "output_type": "execute_result"
    }
   ],
   "source": [
    "data = pd.DataFrame({'x': x, 'y': y}) # a data frame is needed to use ModelSpec()\n",
    "\n",
    "X = MS([\"x\"], intercept = False).fit_transform(data)\n",
    "model1 = sm.OLS(data.y, X)\n",
    "results1 = model1.fit()\n",
    "summarize(results1)"
   ]
  },
  {
   "cell_type": "code",
   "execution_count": 4,
   "id": "daff834e-14b0-4678-af98-9cf252241d00",
   "metadata": {},
   "outputs": [
    {
     "data": {
      "text/html": [
       "<div>\n",
       "<style scoped>\n",
       "    .dataframe tbody tr th:only-of-type {\n",
       "        vertical-align: middle;\n",
       "    }\n",
       "\n",
       "    .dataframe tbody tr th {\n",
       "        vertical-align: top;\n",
       "    }\n",
       "\n",
       "    .dataframe thead th {\n",
       "        text-align: right;\n",
       "    }\n",
       "</style>\n",
       "<table border=\"1\" class=\"dataframe\">\n",
       "  <thead>\n",
       "    <tr style=\"text-align: right;\">\n",
       "      <th></th>\n",
       "      <th>coef</th>\n",
       "      <th>std err</th>\n",
       "      <th>t</th>\n",
       "      <th>P&gt;|t|</th>\n",
       "    </tr>\n",
       "  </thead>\n",
       "  <tbody>\n",
       "    <tr>\n",
       "      <th>y</th>\n",
       "      <td>0.3757</td>\n",
       "      <td>0.022</td>\n",
       "      <td>16.898</td>\n",
       "      <td>0.0</td>\n",
       "    </tr>\n",
       "  </tbody>\n",
       "</table>\n",
       "</div>"
      ],
      "text/plain": [
       "     coef  std err       t  P>|t|\n",
       "y  0.3757    0.022  16.898    0.0"
      ]
     },
     "execution_count": 4,
     "metadata": {},
     "output_type": "execute_result"
    }
   ],
   "source": [
    "Y = MS([\"y\"], intercept = False).fit_transform(data)\n",
    "model2 = sm.OLS(data.x, Y)\n",
    "results2 = model2.fit()\n",
    "summarize(results2)"
   ]
  },
  {
   "cell_type": "code",
   "execution_count": 5,
   "id": "43164a68-d785-4cd2-af8f-69ff6cddd9d0",
   "metadata": {},
   "outputs": [
    {
     "name": "stdout",
     "output_type": "stream",
     "text": [
      "t calculated: 16.8984\n",
      "model1 t value: 16.8984\n",
      "model2 t value: 16.8984\n"
     ]
    }
   ],
   "source": [
    "t_calculated = np.sqrt(data.shape[0] - 1) * sum(data.x * data.y) / np.sqrt((sum(data.x ** 2)) * (sum(data.y ** 2)) - (sum(data.x * data.y)) ** 2)\n",
    "print(\"t calculated: %.4f\\nmodel1 t value: %.4f\\nmodel2 t value: %.4f\" \n",
    "      %(t_calculated, results1.tvalues, results2.tvalues))"
   ]
  },
  {
   "cell_type": "code",
   "execution_count": 24,
   "id": "584b31b5-f786-42e9-8e5c-1c1c235d8a47",
   "metadata": {},
   "outputs": [],
   "source": [
    "x = rng.normal(size = 100)\n",
    "y = 100 + 10 * x + rng.normal(scale = 1, size = 100)\n",
    "data2 = pd.DataFrame({\n",
    "    \"x\": x, \n",
    "    \"y\": y\n",
    "})"
   ]
  },
  {
   "cell_type": "code",
   "execution_count": 25,
   "id": "a6799091-50de-4b0d-942b-22f08f65b94e",
   "metadata": {},
   "outputs": [
    {
     "data": {
      "text/html": [
       "<div>\n",
       "<style scoped>\n",
       "    .dataframe tbody tr th:only-of-type {\n",
       "        vertical-align: middle;\n",
       "    }\n",
       "\n",
       "    .dataframe tbody tr th {\n",
       "        vertical-align: top;\n",
       "    }\n",
       "\n",
       "    .dataframe thead th {\n",
       "        text-align: right;\n",
       "    }\n",
       "</style>\n",
       "<table border=\"1\" class=\"dataframe\">\n",
       "  <thead>\n",
       "    <tr style=\"text-align: right;\">\n",
       "      <th></th>\n",
       "      <th>coef</th>\n",
       "      <th>std err</th>\n",
       "      <th>t</th>\n",
       "      <th>P&gt;|t|</th>\n",
       "    </tr>\n",
       "  </thead>\n",
       "  <tbody>\n",
       "    <tr>\n",
       "      <th>intercept</th>\n",
       "      <td>99.9063</td>\n",
       "      <td>0.094</td>\n",
       "      <td>1058.338</td>\n",
       "      <td>0.0</td>\n",
       "    </tr>\n",
       "    <tr>\n",
       "      <th>x</th>\n",
       "      <td>10.0496</td>\n",
       "      <td>0.108</td>\n",
       "      <td>93.401</td>\n",
       "      <td>0.0</td>\n",
       "    </tr>\n",
       "  </tbody>\n",
       "</table>\n",
       "</div>"
      ],
      "text/plain": [
       "              coef  std err         t  P>|t|\n",
       "intercept  99.9063    0.094  1058.338    0.0\n",
       "x          10.0496    0.108    93.401    0.0"
      ]
     },
     "execution_count": 25,
     "metadata": {},
     "output_type": "execute_result"
    }
   ],
   "source": [
    "X = MS([\"x\"]).fit_transform(data2)\n",
    "model3 = sm.OLS(data2.y, X)\n",
    "summarize(model3.fit())"
   ]
  },
  {
   "cell_type": "code",
   "execution_count": 26,
   "id": "8f758fd0-7417-460c-9d87-2e1d0a5200e6",
   "metadata": {},
   "outputs": [
    {
     "data": {
      "text/html": [
       "<div>\n",
       "<style scoped>\n",
       "    .dataframe tbody tr th:only-of-type {\n",
       "        vertical-align: middle;\n",
       "    }\n",
       "\n",
       "    .dataframe tbody tr th {\n",
       "        vertical-align: top;\n",
       "    }\n",
       "\n",
       "    .dataframe thead th {\n",
       "        text-align: right;\n",
       "    }\n",
       "</style>\n",
       "<table border=\"1\" class=\"dataframe\">\n",
       "  <thead>\n",
       "    <tr style=\"text-align: right;\">\n",
       "      <th></th>\n",
       "      <th>coef</th>\n",
       "      <th>std err</th>\n",
       "      <th>t</th>\n",
       "      <th>P&gt;|t|</th>\n",
       "    </tr>\n",
       "  </thead>\n",
       "  <tbody>\n",
       "    <tr>\n",
       "      <th>intercept</th>\n",
       "      <td>-9.8307</td>\n",
       "      <td>0.106</td>\n",
       "      <td>-92.939</td>\n",
       "      <td>0.0</td>\n",
       "    </tr>\n",
       "    <tr>\n",
       "      <th>y</th>\n",
       "      <td>0.0984</td>\n",
       "      <td>0.001</td>\n",
       "      <td>93.401</td>\n",
       "      <td>0.0</td>\n",
       "    </tr>\n",
       "  </tbody>\n",
       "</table>\n",
       "</div>"
      ],
      "text/plain": [
       "             coef  std err       t  P>|t|\n",
       "intercept -9.8307    0.106 -92.939    0.0\n",
       "y          0.0984    0.001  93.401    0.0"
      ]
     },
     "execution_count": 26,
     "metadata": {},
     "output_type": "execute_result"
    }
   ],
   "source": [
    "Y = MS([\"y\"]).fit_transform(data2)\n",
    "model4 = sm.OLS(data2.x, Y)\n",
    "summarize(model4.fit())"
   ]
  }
 ],
 "metadata": {
  "kernelspec": {
   "display_name": "Python 3 (ipykernel)",
   "language": "python",
   "name": "python3"
  },
  "language_info": {
   "codemirror_mode": {
    "name": "ipython",
    "version": 3
   },
   "file_extension": ".py",
   "mimetype": "text/x-python",
   "name": "python",
   "nbconvert_exporter": "python",
   "pygments_lexer": "ipython3",
   "version": "3.10.14"
  }
 },
 "nbformat": 4,
 "nbformat_minor": 5
}
