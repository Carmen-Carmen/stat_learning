{
 "cells": [
  {
   "cell_type": "code",
   "execution_count": 6,
   "id": "1c61b11a-1dc8-4277-a223-cfdc0ec69787",
   "metadata": {},
   "outputs": [
    {
     "name": "stdout",
     "output_type": "stream",
     "text": [
      "fit a model with 11 variables\n"
     ]
    },
    {
     "data": {
      "text/plain": [
       "\u001b[0;31mDocstring:\u001b[0m\n",
       "print(value, ..., sep=' ', end='\\n', file=sys.stdout, flush=False)\n",
       "\n",
       "Prints the values to a stream, or to sys.stdout by default.\n",
       "Optional keyword arguments:\n",
       "file:  a file-like object (stream); defaults to the current sys.stdout.\n",
       "sep:   string inserted between values, default a space.\n",
       "end:   string appended after the last value, default a newline.\n",
       "flush: whether to forcibly flush the stream.\n",
       "\u001b[0;31mType:\u001b[0m      builtin_function_or_method"
      ]
     },
     "metadata": {},
     "output_type": "display_data"
    }
   ],
   "source": [
    "print(\"fit a model with\", 11, \"variables\")\n",
    "print?"
   ]
  },
  {
   "cell_type": "markdown",
   "id": "f9556330-8373-4997-aa04-1cf3a777ac15",
   "metadata": {},
   "source": [
    "# About numpy"
   ]
  },
  {
   "cell_type": "code",
   "execution_count": 3,
   "id": "58ca933a-63c5-4894-894e-502c4edb88da",
   "metadata": {},
   "outputs": [
    {
     "data": {
      "text/plain": [
       "array([ 7, 13, 12])"
      ]
     },
     "execution_count": 3,
     "metadata": {},
     "output_type": "execute_result"
    }
   ],
   "source": [
    "import numpy as np\n",
    "x = np.array([3, 4, 5])\n",
    "y = np.array([4, 9, 7])\n",
    "x + y"
   ]
  },
  {
   "cell_type": "code",
   "execution_count": 4,
   "id": "30aaa5c2-56b1-4e40-a77d-68df791073dc",
   "metadata": {},
   "outputs": [
    {
     "data": {
      "text/plain": [
       "array([[1, 2],\n",
       "       [3, 4]])"
      ]
     },
     "execution_count": 4,
     "metadata": {},
     "output_type": "execute_result"
    }
   ],
   "source": [
    "x = np.array([[1, 2], \n",
    "              [3, 4]])\n",
    "x\n"
   ]
  },
  {
   "cell_type": "code",
   "execution_count": 6,
   "id": "0eeee1c8-32e9-4496-bba3-f8725778ec72",
   "metadata": {},
   "outputs": [
    {
     "data": {
      "text/plain": [
       "2"
      ]
     },
     "execution_count": 6,
     "metadata": {},
     "output_type": "execute_result"
    }
   ],
   "source": [
    "x.ndim"
   ]
  },
  {
   "cell_type": "code",
   "execution_count": 7,
   "id": "d27f8130-4be7-4212-ba45-275127dbb48c",
   "metadata": {},
   "outputs": [
    {
     "data": {
      "text/plain": [
       "dtype('int64')"
      ]
     },
     "execution_count": 7,
     "metadata": {},
     "output_type": "execute_result"
    }
   ],
   "source": [
    "x.dtype"
   ]
  },
  {
   "cell_type": "code",
   "execution_count": 9,
   "id": "319b8619-a3f0-40ad-82fa-e1758d147b30",
   "metadata": {},
   "outputs": [
    {
     "data": {
      "text/plain": [
       "dtype('float64')"
      ]
     },
     "execution_count": 9,
     "metadata": {},
     "output_type": "execute_result"
    }
   ],
   "source": [
    "np.array([[1, 2], [3.0, 4]]).dtype"
   ]
  },
  {
   "cell_type": "code",
   "execution_count": 10,
   "id": "688ea39d-9cf5-40bf-b8a7-5bbd3b3a95bb",
   "metadata": {},
   "outputs": [
    {
     "data": {
      "text/plain": [
       "\u001b[0;31mDocstring:\u001b[0m\n",
       "array(object, dtype=None, *, copy=True, order='K', subok=False, ndmin=0,\n",
       "      like=None)\n",
       "\n",
       "Create an array.\n",
       "\n",
       "Parameters\n",
       "----------\n",
       "object : array_like\n",
       "    An array, any object exposing the array interface, an object whose\n",
       "    ``__array__`` method returns an array, or any (nested) sequence.\n",
       "    If object is a scalar, a 0-dimensional array containing object is\n",
       "    returned.\n",
       "dtype : data-type, optional\n",
       "    The desired data-type for the array. If not given, NumPy will try to use\n",
       "    a default ``dtype`` that can represent the values (by applying promotion\n",
       "    rules when necessary.)\n",
       "copy : bool, optional\n",
       "    If true (default), then the object is copied.  Otherwise, a copy will\n",
       "    only be made if ``__array__`` returns a copy, if obj is a nested\n",
       "    sequence, or if a copy is needed to satisfy any of the other\n",
       "    requirements (``dtype``, ``order``, etc.).\n",
       "order : {'K', 'A', 'C', 'F'}, optional\n",
       "    Specify the memory layout of the array. If object is not an array, the\n",
       "    newly created array will be in C order (row major) unless 'F' is\n",
       "    specified, in which case it will be in Fortran order (column major).\n",
       "    If object is an array the following holds.\n",
       "\n",
       "    ===== ========= ===================================================\n",
       "    order  no copy                     copy=True\n",
       "    ===== ========= ===================================================\n",
       "    'K'   unchanged F & C order preserved, otherwise most similar order\n",
       "    'A'   unchanged F order if input is F and not C, otherwise C order\n",
       "    'C'   C order   C order\n",
       "    'F'   F order   F order\n",
       "    ===== ========= ===================================================\n",
       "\n",
       "    When ``copy=False`` and a copy is made for other reasons, the result is\n",
       "    the same as if ``copy=True``, with some exceptions for 'A', see the\n",
       "    Notes section. The default order is 'K'.\n",
       "subok : bool, optional\n",
       "    If True, then sub-classes will be passed-through, otherwise\n",
       "    the returned array will be forced to be a base-class array (default).\n",
       "ndmin : int, optional\n",
       "    Specifies the minimum number of dimensions that the resulting\n",
       "    array should have.  Ones will be prepended to the shape as\n",
       "    needed to meet this requirement.\n",
       "like : array_like, optional\n",
       "    Reference object to allow the creation of arrays which are not\n",
       "    NumPy arrays. If an array-like passed in as ``like`` supports\n",
       "    the ``__array_function__`` protocol, the result will be defined\n",
       "    by it. In this case, it ensures the creation of an array object\n",
       "    compatible with that passed in via this argument.\n",
       "\n",
       "    .. versionadded:: 1.20.0\n",
       "\n",
       "Returns\n",
       "-------\n",
       "out : ndarray\n",
       "    An array object satisfying the specified requirements.\n",
       "\n",
       "See Also\n",
       "--------\n",
       "empty_like : Return an empty array with shape and type of input.\n",
       "ones_like : Return an array of ones with shape and type of input.\n",
       "zeros_like : Return an array of zeros with shape and type of input.\n",
       "full_like : Return a new array with shape of input filled with value.\n",
       "empty : Return a new uninitialized array.\n",
       "ones : Return a new array setting values to one.\n",
       "zeros : Return a new array setting values to zero.\n",
       "full : Return a new array of given shape filled with value.\n",
       "\n",
       "\n",
       "Notes\n",
       "-----\n",
       "When order is 'A' and ``object`` is an array in neither 'C' nor 'F' order,\n",
       "and a copy is forced by a change in dtype, then the order of the result is\n",
       "not necessarily 'C' as expected. This is likely a bug.\n",
       "\n",
       "Examples\n",
       "--------\n",
       ">>> np.array([1, 2, 3])\n",
       "array([1, 2, 3])\n",
       "\n",
       "Upcasting:\n",
       "\n",
       ">>> np.array([1, 2, 3.0])\n",
       "array([ 1.,  2.,  3.])\n",
       "\n",
       "More than one dimension:\n",
       "\n",
       ">>> np.array([[1, 2], [3, 4]])\n",
       "array([[1, 2],\n",
       "       [3, 4]])\n",
       "\n",
       "Minimum dimensions 2:\n",
       "\n",
       ">>> np.array([1, 2, 3], ndmin=2)\n",
       "array([[1, 2, 3]])\n",
       "\n",
       "Type provided:\n",
       "\n",
       ">>> np.array([1, 2, 3], dtype=complex)\n",
       "array([ 1.+0.j,  2.+0.j,  3.+0.j])\n",
       "\n",
       "Data-type consisting of more than one element:\n",
       "\n",
       ">>> x = np.array([(1,2),(3,4)],dtype=[('a','<i4'),('b','<i4')])\n",
       ">>> x['a']\n",
       "array([1, 3])\n",
       "\n",
       "Creating an array from sub-classes:\n",
       "\n",
       ">>> np.array(np.mat('1 2; 3 4'))\n",
       "array([[1, 2],\n",
       "       [3, 4]])\n",
       "\n",
       ">>> np.array(np.mat('1 2; 3 4'), subok=True)\n",
       "matrix([[1, 2],\n",
       "        [3, 4]])\n",
       "\u001b[0;31mType:\u001b[0m      builtin_function_or_method"
      ]
     },
     "metadata": {},
     "output_type": "display_data"
    }
   ],
   "source": [
    "np.array?"
   ]
  },
  {
   "cell_type": "code",
   "execution_count": 11,
   "id": "7b83e070-53cc-4adf-bc9f-f95dfbb54db2",
   "metadata": {},
   "outputs": [
    {
     "data": {
      "text/plain": [
       "(2, 2)"
      ]
     },
     "execution_count": 11,
     "metadata": {},
     "output_type": "execute_result"
    }
   ],
   "source": [
    "x.shape"
   ]
  },
  {
   "cell_type": "code",
   "execution_count": 12,
   "id": "7844e2d3-a038-4c77-bfed-ef0e8833bb83",
   "metadata": {},
   "outputs": [
    {
     "data": {
      "text/plain": [
       "10"
      ]
     },
     "execution_count": 12,
     "metadata": {},
     "output_type": "execute_result"
    }
   ],
   "source": [
    "x.sum()"
   ]
  },
  {
   "cell_type": "code",
   "execution_count": 13,
   "id": "ed722e8c-a74c-4e70-aa57-77bf478b0299",
   "metadata": {},
   "outputs": [
    {
     "data": {
      "text/plain": [
       "10"
      ]
     },
     "execution_count": 13,
     "metadata": {},
     "output_type": "execute_result"
    }
   ],
   "source": [
    "x = np.array([1, 2, 3, 4])\n",
    "np.sum(x)"
   ]
  },
  {
   "cell_type": "code",
   "execution_count": 16,
   "id": "035e6c10-2ce5-4ba3-9ea6-c9f51ea26b4e",
   "metadata": {},
   "outputs": [
    {
     "name": "stdout",
     "output_type": "stream",
     "text": [
      "Beginning x: \n",
      " [1 2 3 4 5 6]\n",
      "reshaped x: \n",
      " [[1 2 3]\n",
      " [4 5 6]]\n"
     ]
    }
   ],
   "source": [
    "x = np.array([1, 2, 3, 4, 5, 6])\n",
    "print(\"Beginning x: \\n\", x)\n",
    "x_reshape = x.reshape((2, 3))\n",
    "print(\"reshaped x: \\n\", x_reshape)"
   ]
  },
  {
   "cell_type": "code",
   "execution_count": 17,
   "id": "9ea8ca4b-fb4d-4ea0-a339-acdec4d3748b",
   "metadata": {},
   "outputs": [
    {
     "data": {
      "text/plain": [
       "1"
      ]
     },
     "execution_count": 17,
     "metadata": {},
     "output_type": "execute_result"
    }
   ],
   "source": [
    "x_reshape[0, 0]"
   ]
  },
  {
   "cell_type": "code",
   "execution_count": 18,
   "id": "94b1b1fb-3c5e-4cfb-95d7-a73bc151369b",
   "metadata": {},
   "outputs": [
    {
     "data": {
      "text/plain": [
       "6"
      ]
     },
     "execution_count": 18,
     "metadata": {},
     "output_type": "execute_result"
    }
   ],
   "source": [
    "x_reshape[1, 2]"
   ]
  },
  {
   "cell_type": "code",
   "execution_count": 19,
   "id": "55ed9093-4dba-49ca-a147-8ccbd9dfdd29",
   "metadata": {},
   "outputs": [
    {
     "name": "stdout",
     "output_type": "stream",
     "text": [
      "x before we modify x_reshape: \n",
      " [1 2 3 4 5 6]\n",
      "x_reshape before we modify x_reshape: \n",
      " [[1 2 3]\n",
      " [4 5 6]]\n",
      "x_reshape after we modify its top left element: \n",
      " [[100   2   3]\n",
      " [  4   5   6]]\n",
      "x after we modify top left element of x_reshape: \n",
      " [100   2   3   4   5   6]\n"
     ]
    }
   ],
   "source": [
    "print(\"x before we modify x_reshape: \\n\", x)\n",
    "print(\"x_reshape before we modify x_reshape: \\n\", x_reshape)\n",
    "x_reshape[0, 0] = 100\n",
    "print(\"x_reshape after we modify its top left element: \\n\", x_reshape)\n",
    "print(\"x after we modify top left element of x_reshape: \\n\", x)"
   ]
  },
  {
   "cell_type": "markdown",
   "id": "8007dd20-13b9-4289-b940-263ebc10fef3",
   "metadata": {},
   "source": [
    "modifying x_reshape also modified x because the two objects occupy the same space in memory."
   ]
  },
  {
   "cell_type": "code",
   "execution_count": 21,
   "id": "ef384451-634b-41e0-a26c-897d75be068d",
   "metadata": {},
   "outputs": [
    {
     "data": {
      "text/plain": [
       "((2, 3),\n",
       " 2,\n",
       " array([[100,   4],\n",
       "        [  2,   5],\n",
       "        [  3,   6]]))"
      ]
     },
     "execution_count": 21,
     "metadata": {},
     "output_type": "execute_result"
    }
   ],
   "source": [
    "x_reshape.shape, x_reshape.ndim, x_reshape.T # T provides the transpose"
   ]
  },
  {
   "cell_type": "code",
   "execution_count": 22,
   "id": "f7e759e5-c58c-4f31-b3df-5a28e964211f",
   "metadata": {},
   "outputs": [
    {
     "data": {
      "text/plain": [
       "array([10.        ,  1.41421356,  1.73205081,  2.        ,  2.23606798,\n",
       "        2.44948974])"
      ]
     },
     "execution_count": 22,
     "metadata": {},
     "output_type": "execute_result"
    }
   ],
   "source": [
    "np.sqrt(x)"
   ]
  },
  {
   "cell_type": "code",
   "execution_count": 23,
   "id": "b4bd101a-63bf-48d5-aadc-3f27d3d50061",
   "metadata": {},
   "outputs": [
    {
     "data": {
      "text/plain": [
       "array([10000,     4,     9,    16,    25,    36])"
      ]
     },
     "execution_count": 23,
     "metadata": {},
     "output_type": "execute_result"
    }
   ],
   "source": [
    "x ** 2"
   ]
  },
  {
   "cell_type": "code",
   "execution_count": 25,
   "id": "7bfb5a4d-f6e4-4ea7-b5bf-5eade1fd1cc7",
   "metadata": {},
   "outputs": [
    {
     "data": {
      "text/plain": [
       "array([10.        ,  1.41421356,  1.73205081,  2.        ,  2.23606798,\n",
       "        2.44948974])"
      ]
     },
     "execution_count": 25,
     "metadata": {},
     "output_type": "execute_result"
    }
   ],
   "source": [
    "x ** 0.5"
   ]
  },
  {
   "cell_type": "markdown",
   "id": "be0800f4-a2de-4838-855b-885f806d50db",
   "metadata": {},
   "source": [
    "# Generating random data"
   ]
  },
  {
   "cell_type": "code",
   "execution_count": 26,
   "id": "e843f78e-b33d-4a55-820b-6cabd8d839a8",
   "metadata": {},
   "outputs": [
    {
     "data": {
      "text/plain": [
       "-1.8399607586321665"
      ]
     },
     "execution_count": 26,
     "metadata": {},
     "output_type": "execute_result"
    }
   ],
   "source": [
    "np.random.normal()"
   ]
  },
  {
   "cell_type": "code",
   "execution_count": 28,
   "id": "d6e88bdf-25b7-4594-8576-30bc4c0ff49a",
   "metadata": {},
   "outputs": [
    {
     "data": {
      "text/plain": [
       "array([-0.17518802,  0.26797438, -1.16299319, -1.01367673,  0.14269884,\n",
       "       -0.57742633,  0.31072307, -0.5030522 ,  0.43455181,  0.05998284,\n",
       "       -0.25110248,  0.39099868,  0.7135321 , -0.27668586, -1.3179115 ,\n",
       "       -1.83140901, -0.58143199,  0.73627076,  1.09589104,  0.87796765,\n",
       "        0.66238186,  0.15128843,  0.51230297, -0.97455129, -0.36574088,\n",
       "       -0.79523512, -0.05917481, -0.71901822, -1.33666957,  0.75662007,\n",
       "        0.33589368,  0.47337383,  1.2330748 ,  0.3548226 , -0.37502082,\n",
       "       -1.06700309,  0.46264116,  0.31193081,  0.5310339 ,  0.80525301,\n",
       "        2.39919742, -0.23276805,  1.8442754 , -1.47042489,  2.87366537,\n",
       "       -0.97609198,  0.64654383, -0.48690713, -0.05200996, -0.32550725])"
      ]
     },
     "execution_count": 28,
     "metadata": {},
     "output_type": "execute_result"
    }
   ],
   "source": [
    "x = np.random.normal(size = 50)\n",
    "x"
   ]
  },
  {
   "cell_type": "code",
   "execution_count": 29,
   "id": "d3c7f4f6-1186-4157-8196-829392d44c2e",
   "metadata": {},
   "outputs": [],
   "source": [
    "y = x + np.random.normal(loc = 50, scale = 1, size = 50)"
   ]
  },
  {
   "cell_type": "code",
   "execution_count": 30,
   "id": "4133d027-1c66-4170-b384-26481d2eb054",
   "metadata": {},
   "outputs": [
    {
     "data": {
      "text/plain": [
       "array([[1.       , 0.7115519],\n",
       "       [0.7115519, 1.       ]])"
      ]
     },
     "execution_count": 30,
     "metadata": {},
     "output_type": "execute_result"
    }
   ],
   "source": [
    "np.corrcoef(x, y)"
   ]
  },
  {
   "cell_type": "code",
   "execution_count": 31,
   "id": "26a7811a-ab40-4d69-bece-dbeda2206720",
   "metadata": {},
   "outputs": [
    {
     "name": "stdout",
     "output_type": "stream",
     "text": [
      "[-0.17310339 -5.38119666]\n",
      "[-1.62479413 -7.26955526]\n"
     ]
    }
   ],
   "source": [
    "print(np.random.normal(scale = 5, size = 2))\n",
    "print(np.random.normal(scale = 5, size = 2))"
   ]
  },
  {
   "cell_type": "markdown",
   "id": "aba99d70-b92f-4993-ba84-4a229d9ba172",
   "metadata": {},
   "source": [
    "use np.random.default_rng to get a random number generator with fixed sequence of random numbers"
   ]
  },
  {
   "cell_type": "code",
   "execution_count": 32,
   "id": "dd1902c9-15a6-478d-8721-3887d083cf64",
   "metadata": {},
   "outputs": [
    {
     "name": "stdout",
     "output_type": "stream",
     "text": [
      "[ 4.09482632 -1.07485605]\n",
      "[ 4.09482632 -1.07485605]\n"
     ]
    }
   ],
   "source": [
    "rng = np.random.default_rng(1303)\n",
    "print(rng.normal(scale = 5, size = 2))\n",
    "rng2 = np.random.default_rng(1303)\n",
    "print(rng2.normal(scale = 5, size = 2))"
   ]
  },
  {
   "cell_type": "code",
   "execution_count": null,
   "id": "7273c765-670c-4e52-8478-ec88796cf304",
   "metadata": {},
   "outputs": [],
   "source": []
  },
  {
   "cell_type": "code",
   "execution_count": null,
   "id": "fbbce128-403e-466c-a083-81c689af0d18",
   "metadata": {},
   "outputs": [],
   "source": []
  },
  {
   "cell_type": "code",
   "execution_count": null,
   "id": "7c4f1bc7-8eea-4fae-ad7b-b8b9fc3ab980",
   "metadata": {},
   "outputs": [],
   "source": []
  },
  {
   "cell_type": "code",
   "execution_count": null,
   "id": "5dfaf80f-e991-4e53-8d5a-b1de5ad0bca3",
   "metadata": {},
   "outputs": [],
   "source": []
  },
  {
   "cell_type": "code",
   "execution_count": null,
   "id": "ab0ece3d-b8df-4534-a7d9-0b0babacc520",
   "metadata": {},
   "outputs": [],
   "source": []
  }
 ],
 "metadata": {
  "kernelspec": {
   "display_name": "Python 3 (ipykernel)",
   "language": "python",
   "name": "python3"
  },
  "language_info": {
   "codemirror_mode": {
    "name": "ipython",
    "version": 3
   },
   "file_extension": ".py",
   "mimetype": "text/x-python",
   "name": "python",
   "nbconvert_exporter": "python",
   "pygments_lexer": "ipython3",
   "version": "3.10.14"
  }
 },
 "nbformat": 4,
 "nbformat_minor": 5
}
