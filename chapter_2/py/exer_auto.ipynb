{
 "cells": [
  {
   "cell_type": "code",
   "execution_count": 8,
   "id": "b46058c7-a0b7-4588-ac9d-9aaca2dc6729",
   "metadata": {},
   "outputs": [],
   "source": [
    "import os\n",
    "import pandas as pd\n",
    "import numpy as np\n",
    "from matplotlib.pyplot import subplots\n",
    "\n",
    "csv_path = \"~/Documents/stat_learning/csv_files\"\n",
    "file_path_auto = os.path.join(csv_path, \"Auto.csv\")\n",
    "\n",
    "Auto = pd.read_csv(file_path_auto, na_values=[\"?\"])"
   ]
  },
  {
   "cell_type": "code",
   "execution_count": 9,
   "id": "f76d7512-a27a-491e-be56-8b9aefa1290a",
   "metadata": {},
   "outputs": [
    {
     "data": {
      "text/plain": [
       "Index(['mpg', 'cylinders', 'displacement', 'horsepower', 'weight',\n",
       "       'acceleration', 'year', 'origin', 'name'],\n",
       "      dtype='object')"
      ]
     },
     "execution_count": 9,
     "metadata": {},
     "output_type": "execute_result"
    }
   ],
   "source": [
    "Auto = Auto.dropna()\n",
    "Auto.columns"
   ]
  },
  {
   "cell_type": "code",
   "execution_count": 10,
   "id": "941fc561-c235-487a-a7f4-248f03766def",
   "metadata": {},
   "outputs": [],
   "source": [
    "quantitative_predictors = [\"mpg\", \"cylinders\", \"displacement\", \"horsepower\", \"weight\", \n",
    "                            \"acceleration\"]\n",
    "qualitative_predictors = [\"year\", \"origin\", \"name\"]"
   ]
  },
  {
   "cell_type": "code",
   "execution_count": 11,
   "id": "fc20a0ff-21e4-4c61-95db-77517e8e4c9f",
   "metadata": {},
   "outputs": [
    {
     "name": "stdout",
     "output_type": "stream",
     "text": [
      "range of quantitative descriptor [mpg]: 37.60\n",
      "range of quantitative descriptor [cylinders]: 5.00\n",
      "range of quantitative descriptor [displacement]: 387.00\n",
      "range of quantitative descriptor [horsepower]: 184.00\n",
      "range of quantitative descriptor [weight]: 3527.00\n",
      "range of quantitative descriptor [acceleration]: 16.80\n"
     ]
    }
   ],
   "source": [
    "for p in quantitative_predictors: \n",
    "    min_val = Auto[p].min()\n",
    "    max_val = Auto[p].max()\n",
    "    print(\"range of quantitative descriptor [%s]: %.2f\" %(p, max_val - min_val))"
   ]
  },
  {
   "cell_type": "code",
   "execution_count": 12,
   "id": "262acf49-2d88-4336-a0e7-0d62f3aa0351",
   "metadata": {},
   "outputs": [
    {
     "name": "stdout",
     "output_type": "stream",
     "text": [
      "quantitative descriptor [mpg]: mean = 23.45, std = 7.8050\n",
      "quantitative descriptor [cylinders]: mean = 5.47, std = 1.7058\n",
      "quantitative descriptor [displacement]: mean = 194.41, std = 104.6440\n",
      "quantitative descriptor [horsepower]: mean = 104.47, std = 38.4912\n",
      "quantitative descriptor [weight]: mean = 2977.58, std = 849.4026\n",
      "quantitative descriptor [acceleration]: mean = 15.54, std = 2.7589\n"
     ]
    }
   ],
   "source": [
    "for p in quantitative_predictors: \n",
    "    mean_val = Auto[p].mean()\n",
    "    std_val = Auto[p].std()\n",
    "    print(\"quantitative descriptor [%s]: mean = %.2f, std = %.4f\" %(p, mean_val, std_val))"
   ]
  },
  {
   "cell_type": "code",
   "execution_count": 13,
   "id": "0b60870e-f2df-4014-9ad6-a30837cc98a9",
   "metadata": {},
   "outputs": [
    {
     "data": {
      "text/html": [
       "<div>\n",
       "<style scoped>\n",
       "    .dataframe tbody tr th:only-of-type {\n",
       "        vertical-align: middle;\n",
       "    }\n",
       "\n",
       "    .dataframe tbody tr th {\n",
       "        vertical-align: top;\n",
       "    }\n",
       "\n",
       "    .dataframe thead th {\n",
       "        text-align: right;\n",
       "    }\n",
       "</style>\n",
       "<table border=\"1\" class=\"dataframe\">\n",
       "  <thead>\n",
       "    <tr style=\"text-align: right;\">\n",
       "      <th></th>\n",
       "      <th>mpg</th>\n",
       "      <th>cylinders</th>\n",
       "      <th>displacement</th>\n",
       "      <th>horsepower</th>\n",
       "      <th>weight</th>\n",
       "      <th>acceleration</th>\n",
       "      <th>year</th>\n",
       "      <th>origin</th>\n",
       "    </tr>\n",
       "  </thead>\n",
       "  <tbody>\n",
       "    <tr>\n",
       "      <th>count</th>\n",
       "      <td>317.000000</td>\n",
       "      <td>317.000000</td>\n",
       "      <td>317.000000</td>\n",
       "      <td>317.000000</td>\n",
       "      <td>317.000000</td>\n",
       "      <td>317.000000</td>\n",
       "      <td>317.000000</td>\n",
       "      <td>317.000000</td>\n",
       "    </tr>\n",
       "    <tr>\n",
       "      <th>mean</th>\n",
       "      <td>24.368454</td>\n",
       "      <td>5.381703</td>\n",
       "      <td>187.753943</td>\n",
       "      <td>100.955836</td>\n",
       "      <td>2939.643533</td>\n",
       "      <td>15.718297</td>\n",
       "      <td>77.132492</td>\n",
       "      <td>1.599369</td>\n",
       "    </tr>\n",
       "    <tr>\n",
       "      <th>std</th>\n",
       "      <td>7.880898</td>\n",
       "      <td>1.658135</td>\n",
       "      <td>99.939488</td>\n",
       "      <td>35.895567</td>\n",
       "      <td>812.649629</td>\n",
       "      <td>2.693813</td>\n",
       "      <td>3.110026</td>\n",
       "      <td>0.819308</td>\n",
       "    </tr>\n",
       "    <tr>\n",
       "      <th>min</th>\n",
       "      <td>11.000000</td>\n",
       "      <td>3.000000</td>\n",
       "      <td>68.000000</td>\n",
       "      <td>46.000000</td>\n",
       "      <td>1649.000000</td>\n",
       "      <td>8.500000</td>\n",
       "      <td>70.000000</td>\n",
       "      <td>1.000000</td>\n",
       "    </tr>\n",
       "    <tr>\n",
       "      <th>25%</th>\n",
       "      <td>18.000000</td>\n",
       "      <td>4.000000</td>\n",
       "      <td>101.000000</td>\n",
       "      <td>75.000000</td>\n",
       "      <td>2215.000000</td>\n",
       "      <td>14.000000</td>\n",
       "      <td>75.000000</td>\n",
       "      <td>1.000000</td>\n",
       "    </tr>\n",
       "    <tr>\n",
       "      <th>50%</th>\n",
       "      <td>23.900000</td>\n",
       "      <td>4.000000</td>\n",
       "      <td>146.000000</td>\n",
       "      <td>90.000000</td>\n",
       "      <td>2795.000000</td>\n",
       "      <td>15.500000</td>\n",
       "      <td>77.000000</td>\n",
       "      <td>1.000000</td>\n",
       "    </tr>\n",
       "    <tr>\n",
       "      <th>75%</th>\n",
       "      <td>30.500000</td>\n",
       "      <td>6.000000</td>\n",
       "      <td>250.000000</td>\n",
       "      <td>115.000000</td>\n",
       "      <td>3520.000000</td>\n",
       "      <td>17.300000</td>\n",
       "      <td>80.000000</td>\n",
       "      <td>2.000000</td>\n",
       "    </tr>\n",
       "    <tr>\n",
       "      <th>max</th>\n",
       "      <td>46.600000</td>\n",
       "      <td>8.000000</td>\n",
       "      <td>455.000000</td>\n",
       "      <td>230.000000</td>\n",
       "      <td>4997.000000</td>\n",
       "      <td>24.800000</td>\n",
       "      <td>82.000000</td>\n",
       "      <td>3.000000</td>\n",
       "    </tr>\n",
       "  </tbody>\n",
       "</table>\n",
       "</div>"
      ],
      "text/plain": [
       "              mpg   cylinders  displacement  horsepower       weight  \\\n",
       "count  317.000000  317.000000    317.000000  317.000000   317.000000   \n",
       "mean    24.368454    5.381703    187.753943  100.955836  2939.643533   \n",
       "std      7.880898    1.658135     99.939488   35.895567   812.649629   \n",
       "min     11.000000    3.000000     68.000000   46.000000  1649.000000   \n",
       "25%     18.000000    4.000000    101.000000   75.000000  2215.000000   \n",
       "50%     23.900000    4.000000    146.000000   90.000000  2795.000000   \n",
       "75%     30.500000    6.000000    250.000000  115.000000  3520.000000   \n",
       "max     46.600000    8.000000    455.000000  230.000000  4997.000000   \n",
       "\n",
       "       acceleration        year      origin  \n",
       "count    317.000000  317.000000  317.000000  \n",
       "mean      15.718297   77.132492    1.599369  \n",
       "std        2.693813    3.110026    0.819308  \n",
       "min        8.500000   70.000000    1.000000  \n",
       "25%       14.000000   75.000000    1.000000  \n",
       "50%       15.500000   77.000000    1.000000  \n",
       "75%       17.300000   80.000000    2.000000  \n",
       "max       24.800000   82.000000    3.000000  "
      ]
     },
     "execution_count": 13,
     "metadata": {},
     "output_type": "execute_result"
    }
   ],
   "source": [
    "Auto_new = Auto.drop(range(9, 85), errors = \"ignore\")\n",
    "Auto_new.describe()"
   ]
  },
  {
   "cell_type": "code",
   "execution_count": 14,
   "id": "4572a77d-e133-49b5-b18c-0e50328f1674",
   "metadata": {},
   "outputs": [
    {
     "name": "stdout",
     "output_type": "stream",
     "text": [
      "correlation between cylinders and mpg: -0.78\n",
      "correlation between displacement and mpg: -0.81\n",
      "correlation between horsepower and mpg: -0.78\n",
      "correlation between weight and mpg: -0.83\n",
      "correlation between acceleration and mpg: 0.42\n"
     ]
    }
   ],
   "source": [
    "for p in quantitative_predictors:\n",
    "    if p == \"mpg\":\n",
    "        continue\n",
    "    print(\"correlation between %s and %s: %.2f\" %(p, \"mpg\", Auto[p].corr(Auto[\"mpg\"])))"
   ]
  }
 ],
 "metadata": {
  "kernelspec": {
   "display_name": "Python 3 (ipykernel)",
   "language": "python",
   "name": "python3"
  },
  "language_info": {
   "codemirror_mode": {
    "name": "ipython",
    "version": 3
   },
   "file_extension": ".py",
   "mimetype": "text/x-python",
   "name": "python",
   "nbconvert_exporter": "python",
   "pygments_lexer": "ipython3",
   "version": "3.10.14"
  }
 },
 "nbformat": 4,
 "nbformat_minor": 5
}
